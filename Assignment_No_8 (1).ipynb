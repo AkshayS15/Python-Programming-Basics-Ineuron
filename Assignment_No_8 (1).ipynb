{
  "nbformat": 4,
  "nbformat_minor": 0,
  "metadata": {
    "colab": {
      "name": "Assignment No.8.ipynb",
      "provenance": [],
      "collapsed_sections": []
    },
    "kernelspec": {
      "name": "python3",
      "display_name": "Python 3"
    },
    "language_info": {
      "name": "python"
    }
  },
  "cells": [
    {
      "cell_type": "markdown",
      "source": [
        "**1. Write a Python Program to Add Two Matrices?**  \n",
        "ANS - "
      ],
      "metadata": {
        "id": "u07HcnBsHj3I"
      }
    },
    {
      "cell_type": "code",
      "source": [
        "import numpy as np \n",
        "\n",
        "m1 = np.arange(8).reshape(2,4)\n",
        "m2 = np.random.randint(1,15,8).reshape(2,4)\n",
        "\n",
        "print(m1, \"\\n\") \n",
        "print(m2, \"\\n\")\n",
        "\n",
        "print(np.add(m1,m2))\n"
      ],
      "metadata": {
        "colab": {
          "base_uri": "https://localhost:8080/"
        },
        "id": "2v3wCf5VHuqo",
        "outputId": "ea88560d-59f8-4fee-ede7-50f451794d5d"
      },
      "execution_count": 10,
      "outputs": [
        {
          "output_type": "stream",
          "name": "stdout",
          "text": [
            "[[0 1 2 3]\n",
            " [4 5 6 7]] \n",
            "\n",
            "[[ 4  4  3  1]\n",
            " [ 8 12  5 11]] \n",
            "\n",
            "[[ 4  5  5  4]\n",
            " [12 17 11 18]]\n"
          ]
        }
      ]
    },
    {
      "cell_type": "markdown",
      "source": [
        "**2. Write a Python Program to Multiply Two Matrices?**  \n",
        "ANS - "
      ],
      "metadata": {
        "id": "btQ3Y0KpJcZG"
      }
    },
    {
      "cell_type": "code",
      "source": [
        "m1 = np.random.randint(1,10,8).reshape(2,2,2)\n",
        "m2 = np.random.randint(1,12,8).reshape(2,2,2)\n",
        "\n",
        "product = np.dot(m1,m2)\n",
        "\n",
        "print(\"The product of array {} \\n\\n and array {} \\n\\n is \\n\\n {} \".format(m1,m2,product))"
      ],
      "metadata": {
        "colab": {
          "base_uri": "https://localhost:8080/"
        },
        "id": "BiOt1S4wJe0W",
        "outputId": "b8d7978c-7999-4694-c48d-96ffd72ae2b8"
      },
      "execution_count": 17,
      "outputs": [
        {
          "output_type": "stream",
          "name": "stdout",
          "text": [
            "The product of array [[[3 8]\n",
            "  [2 2]]\n",
            "\n",
            " [[2 1]\n",
            "  [6 2]]] \n",
            "\n",
            " and array [[[ 2  6]\n",
            "  [ 9 10]]\n",
            "\n",
            " [[ 2  8]\n",
            "  [ 5  6]]] \n",
            "\n",
            " is \n",
            "\n",
            " [[[[78 98]\n",
            "   [46 72]]\n",
            "\n",
            "  [[22 32]\n",
            "   [14 28]]]\n",
            "\n",
            "\n",
            " [[[13 22]\n",
            "   [ 9 22]]\n",
            "\n",
            "  [[30 56]\n",
            "   [22 60]]]] \n"
          ]
        }
      ]
    },
    {
      "cell_type": "markdown",
      "source": [
        "**3. Write a Python Program to Transpose a Matrix?**  \n",
        "ANS - "
      ],
      "metadata": {
        "id": "fPyOfzvVMedU"
      }
    },
    {
      "cell_type": "code",
      "source": [
        "X = [[1,2],\n",
        "     [3,4],\n",
        "     [5,6]]\n",
        "\n",
        "result = [[0,0,0],\n",
        "          [0,0,0]]\n",
        "          \n",
        "\n",
        "for i in range(len(X)): \n",
        "  for j in range(len(X[0])):\n",
        "    result[j][i] = X[i][j] \n",
        "\n",
        "for r in result:\n",
        "  print(r)   "
      ],
      "metadata": {
        "colab": {
          "base_uri": "https://localhost:8080/"
        },
        "id": "Q3hrrBR0MlNm",
        "outputId": "96ecb6e9-fab8-40a7-b820-52d2d3c2c8df"
      },
      "execution_count": 21,
      "outputs": [
        {
          "output_type": "stream",
          "name": "stdout",
          "text": [
            "[1, 3, 5]\n",
            "[2, 4, 6]\n"
          ]
        }
      ]
    },
    {
      "cell_type": "markdown",
      "source": [
        "**4. Write a Python Program to Sort Words in Alphabetic Order?**  \n",
        "ANS - "
      ],
      "metadata": {
        "id": "ZywEIlNROB8O"
      }
    },
    {
      "cell_type": "code",
      "source": [
        "#Taking input of string\n",
        "\n",
        "str = input(\"Enter a string : \")\n",
        "\n",
        "words = str.split()\n",
        "\n",
        "words.sort()\n",
        "\n",
        "print(\" \\n The sorted words are \\n \")\n",
        "for word in words:\n",
        "  print(word)"
      ],
      "metadata": {
        "colab": {
          "base_uri": "https://localhost:8080/"
        },
        "id": "CVDhHe5YOIMm",
        "outputId": "98ed17d5-994e-42e1-ab03-9d1214e5ca5c"
      },
      "execution_count": 25,
      "outputs": [
        {
          "output_type": "stream",
          "name": "stdout",
          "text": [
            "Enter a string : Hello bye Take care Good night\n",
            " \n",
            " The sorted words are \n",
            " \n",
            "Good\n",
            "Hello\n",
            "Take\n",
            "bye\n",
            "care\n",
            "night\n"
          ]
        }
      ]
    },
    {
      "cell_type": "markdown",
      "source": [
        "**5. Write a Python Program to Remove Punctuation From a String?**  \n",
        "ANS - "
      ],
      "metadata": {
        "id": "OWa9cyY-PWgC"
      }
    },
    {
      "cell_type": "code",
      "source": [
        "punctuations = '''!()-[]{};:'\"\\,<>./?@#$%^&*_~'''\n",
        "\n",
        "s = input(\"Enter a string : \")\n",
        "no_punct = \"\"\n",
        "for ch in s :\n",
        "  if ch not in  punctuations :\n",
        "    no_punct += ch \n",
        "\n",
        "print(no_punct)"
      ],
      "metadata": {
        "colab": {
          "base_uri": "https://localhost:8080/"
        },
        "id": "YxbWzLzzPd3D",
        "outputId": "a97d1b1b-4eaf-4285-dabe-9ed5247f396b"
      },
      "execution_count": 28,
      "outputs": [
        {
          "output_type": "stream",
          "name": "stdout",
          "text": [
            "Enter a string : Hello.... welcome...!! How are you?\n",
            "Hello welcome How are you\n"
          ]
        }
      ]
    }
  ]
}