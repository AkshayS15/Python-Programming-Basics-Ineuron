{
  "nbformat": 4,
  "nbformat_minor": 0,
  "metadata": {
    "colab": {
      "provenance": []
    },
    "kernelspec": {
      "name": "python3",
      "display_name": "Python 3"
    },
    "language_info": {
      "name": "python"
    }
  },
  "cells": [
    {
      "cell_type": "markdown",
      "source": [
        "**1.Create a function that takes three arguments a, b, c and returns the sum of the numbers that are evenly divided by c from the range a, b inclusive ?**  \n",
        "Examples:  \n",
        "evenly_divisible(1, 10, 20) ➞ 0   \n",
        "No number between 1 and 10 can be evenly divided by 20.   \n",
        "evenly_divisible(1, 10, 2) ➞ 30   \n",
        "2 + 4 + 6 + 8 + 10 = 30   \n",
        "evenly_divisible(1, 10, 3) ➞ 18   \n",
        " 3 + 6 + 9 = 18  \n",
        " ANS - "
      ],
      "metadata": {
        "id": "xc6jrji9nVbY"
      }
    },
    {
      "cell_type": "code",
      "execution_count": 2,
      "metadata": {
        "colab": {
          "base_uri": "https://localhost:8080/"
        },
        "id": "j66wmiTnnRuR",
        "outputId": "268ecc3b-661a-4753-81d0-179d4b687580"
      },
      "outputs": [
        {
          "output_type": "stream",
          "name": "stdout",
          "text": [
            "Enter a : 1\n",
            "Enter b : 10\n",
            "Enter c : 3\n",
            "18\n"
          ]
        }
      ],
      "source": [
        "def sumDivisibles(a, b, c):     \n",
        "    sum = 0\n",
        "    for i in range(a, b + 1): \n",
        "        if (i % c == 0):\n",
        "            sum += i \n",
        "    return sum\n",
        "a = int(input('Enter a : '))\n",
        "b = int(input('Enter b : '))\n",
        "c = int(input('Enter c : '))\n",
        "print(sumDivisibles(a, b, c))"
      ]
    },
    {
      "cell_type": "markdown",
      "source": [
        "**2.Create a function that returns True if a given inequality expression is correct and False otherwise ?**  \n",
        "Examples:  \n",
        "correct_signs(\"3 < 7 < 11\") ➞ True   \n",
        "correct_signs(\"13 > 44 > 33 > 1\") ➞ False  \n",
        "correct_signs(\"1 < 2 < 6 < 9 > 3\") ➞ True  \n",
        "ANS - "
      ],
      "metadata": {
        "id": "ZLSg8-45nxbx"
      }
    },
    {
      "cell_type": "code",
      "source": [
        "def correct_signs(arg):\n",
        "    return eval(arg)"
      ],
      "metadata": {
        "id": "wnsFXKTun3Xx"
      },
      "execution_count": 4,
      "outputs": []
    },
    {
      "cell_type": "code",
      "source": [
        "correct_signs(\"3 > 7 < 11\")"
      ],
      "metadata": {
        "colab": {
          "base_uri": "https://localhost:8080/"
        },
        "id": "m_HeszqBn7nI",
        "outputId": "f195bac3-d399-4cca-cf06-31f28d0166f7"
      },
      "execution_count": 5,
      "outputs": [
        {
          "output_type": "execute_result",
          "data": {
            "text/plain": [
              "False"
            ]
          },
          "metadata": {},
          "execution_count": 5
        }
      ]
    },
    {
      "cell_type": "code",
      "source": [
        "correct_signs(\"13 > 44 > 33 > 1\")"
      ],
      "metadata": {
        "colab": {
          "base_uri": "https://localhost:8080/"
        },
        "id": "wN8DK90Mn9u9",
        "outputId": "17f998fd-75db-41bf-91f4-28885d107078"
      },
      "execution_count": 6,
      "outputs": [
        {
          "output_type": "execute_result",
          "data": {
            "text/plain": [
              "False"
            ]
          },
          "metadata": {},
          "execution_count": 6
        }
      ]
    },
    {
      "cell_type": "code",
      "source": [
        "correct_signs(\"1 < 2 < 6 < 9 > 3\")"
      ],
      "metadata": {
        "colab": {
          "base_uri": "https://localhost:8080/"
        },
        "id": "zH70J1Ezn_qz",
        "outputId": "e8854a9c-f6b0-4a78-f937-46b9b221303d"
      },
      "execution_count": 7,
      "outputs": [
        {
          "output_type": "execute_result",
          "data": {
            "text/plain": [
              "True"
            ]
          },
          "metadata": {},
          "execution_count": 7
        }
      ]
    },
    {
      "cell_type": "markdown",
      "source": [
        "**3.Create a function that replaces all the vowels in a string with a specified character ?**  \n",
        "Examples:  \n",
        "replace_vowels(\"the aardvark\", \"#\") ➞ \"th# ##rdv#rk\"  \n",
        "replace_vowels(\"minnie mouse\", \"?\") ➞ \"m?nn?? m??s?\"  \n",
        "replace_vowels(\"shakespeare\", \"*\") ➞ \"shksp**r\"  \n",
        "ANS - "
      ],
      "metadata": {
        "id": "JR4jVQicoELt"
      }
    },
    {
      "cell_type": "code",
      "source": [
        "def replace_vowels(str, s):\n",
        "    vowels = 'AEIOUaeiou'\n",
        "    for ele in vowels:  \n",
        "        str = str.replace(ele, s)  \n",
        "    return str\n",
        "  \n",
        "input_str = input(\"enter a string : \")\n",
        "s = input(\"enter a vowel replacing string : \")\n",
        "print(\"\\nGiven Sting:\", input_str)\n",
        "print(\"Given Specified Character:\", s)\n",
        "print(\"Afer replacing vowels with the specified character:\",replace_vowels(input_str, s))"
      ],
      "metadata": {
        "colab": {
          "base_uri": "https://localhost:8080/"
        },
        "id": "slvRzJDCoBSp",
        "outputId": "46cdc90c-b970-480e-fc92-ef67056e4297"
      },
      "execution_count": 8,
      "outputs": [
        {
          "output_type": "stream",
          "name": "stdout",
          "text": [
            "enter a string : minnie mouse\n",
            "enter a vowel replacing string : ?\n",
            "\n",
            "Given Sting: minnie mouse\n",
            "Given Specified Character: ?\n",
            "Afer replacing vowels with the specified character: m?nn?? m??s?\n"
          ]
        }
      ]
    },
    {
      "cell_type": "markdown",
      "source": [
        "**4.Write a function that calculates the factorial of a number recursively ?**\n",
        "Examples:  \n",
        "factorial(5) ➞ 120  \n",
        "factorial(3) ➞ 6  \n",
        "factorial(1) ➞ 1  \n",
        "factorial(0) ➞ 1  \n",
        "ANS - "
      ],
      "metadata": {
        "id": "YWuBz0qcoV1f"
      }
    },
    {
      "cell_type": "code",
      "source": [
        "def factorial(num):\n",
        "    if num==0:\n",
        "        return 1\n",
        "    else:\n",
        "        return num*factorial(num-1)"
      ],
      "metadata": {
        "id": "GHYUh87roLie"
      },
      "execution_count": 9,
      "outputs": []
    },
    {
      "cell_type": "code",
      "source": [
        "factorial(5)"
      ],
      "metadata": {
        "colab": {
          "base_uri": "https://localhost:8080/"
        },
        "id": "S19AWuvIoc-3",
        "outputId": "c860df1e-7a2f-499d-f1c6-0e820dfd618f"
      },
      "execution_count": 11,
      "outputs": [
        {
          "output_type": "execute_result",
          "data": {
            "text/plain": [
              "120"
            ]
          },
          "metadata": {},
          "execution_count": 11
        }
      ]
    },
    {
      "cell_type": "code",
      "source": [
        "factorial(3)"
      ],
      "metadata": {
        "colab": {
          "base_uri": "https://localhost:8080/"
        },
        "id": "NzBuLeyWo_ja",
        "outputId": "0c50191c-ad01-4129-d3f1-629b25b2a268"
      },
      "execution_count": 12,
      "outputs": [
        {
          "output_type": "execute_result",
          "data": {
            "text/plain": [
              "6"
            ]
          },
          "metadata": {},
          "execution_count": 12
        }
      ]
    },
    {
      "cell_type": "code",
      "source": [
        "factorial(1)"
      ],
      "metadata": {
        "colab": {
          "base_uri": "https://localhost:8080/"
        },
        "id": "uzuo4qCLpDuD",
        "outputId": "ba45d71f-8b8e-4ce6-9266-4acf1c9e81e1"
      },
      "execution_count": 13,
      "outputs": [
        {
          "output_type": "execute_result",
          "data": {
            "text/plain": [
              "1"
            ]
          },
          "metadata": {},
          "execution_count": 13
        }
      ]
    },
    {
      "cell_type": "code",
      "source": [
        "factorial(0)"
      ],
      "metadata": {
        "colab": {
          "base_uri": "https://localhost:8080/"
        },
        "id": "ycWxB5q2pF5k",
        "outputId": "04ce39f7-abd7-43fc-a35c-0cada2016f2e"
      },
      "execution_count": 14,
      "outputs": [
        {
          "output_type": "execute_result",
          "data": {
            "text/plain": [
              "1"
            ]
          },
          "metadata": {},
          "execution_count": 14
        }
      ]
    },
    {
      "cell_type": "markdown",
      "source": [
        "**5.Hamming distance is the number of characters that differ between two strings ?**  \n",
        "To illustrate:  \n",
        "String1: \"abcbba\"  \n",
        "String2: \"abcbda\"  \n",
        "Hamming Distance: 1 - \"b\" vs. \"d\" is the only difference.  \n",
        "Create a function that computes the hamming distance between two strings.  \n",
        "Examples:  \n",
        "hamming_distance(\"abcde\", \"bcdef\") ➞ 5  \n",
        "hamming_distance(\"abcde\", \"abcde\") ➞ 0  \n",
        "hamming_distance(\"strong\", \"strung\") ➞ 1  \n",
        "ANS - "
      ],
      "metadata": {
        "id": "fkLsapXkpq2Y"
      }
    },
    {
      "cell_type": "code",
      "source": [
        "def hamming_distance(str1, str2):\n",
        "    i = 0\n",
        "    count = 0\n",
        " \n",
        "    while(i < len(str1)):\n",
        "        if(str1[i] != str2[i]):\n",
        "            count += 1\n",
        "        i += 1\n",
        "    return count\n",
        " \n",
        "# Driver code \n",
        "str1 = \"abcde\"\n",
        "str2 = \"bcdef\"\n",
        " \n",
        "# function call\n",
        "print(hamming_distance(str1, str2))"
      ],
      "metadata": {
        "colab": {
          "base_uri": "https://localhost:8080/"
        },
        "id": "hZV3EAHfpzTJ",
        "outputId": "4fb4c0cb-6b20-4279-b347-c4b660030d23"
      },
      "execution_count": 16,
      "outputs": [
        {
          "output_type": "stream",
          "name": "stdout",
          "text": [
            "5\n"
          ]
        }
      ]
    },
    {
      "cell_type": "code",
      "source": [
        "print(hamming_distance('strong', 'strung'))"
      ],
      "metadata": {
        "colab": {
          "base_uri": "https://localhost:8080/"
        },
        "id": "QVQjBBSIp25C",
        "outputId": "8b14a205-890d-44fe-d9ac-c5e0d8f33a6a"
      },
      "execution_count": 17,
      "outputs": [
        {
          "output_type": "stream",
          "name": "stdout",
          "text": [
            "1\n"
          ]
        }
      ]
    },
    {
      "cell_type": "code",
      "source": [
        "hamming_distance('abcde', 'abcde')"
      ],
      "metadata": {
        "colab": {
          "base_uri": "https://localhost:8080/"
        },
        "id": "EGqNCLklp5Os",
        "outputId": "f0e7dccf-2f51-447d-c2c4-7bea1f95a0d5"
      },
      "execution_count": 18,
      "outputs": [
        {
          "output_type": "execute_result",
          "data": {
            "text/plain": [
              "0"
            ]
          },
          "metadata": {},
          "execution_count": 18
        }
      ]
    }
  ]
}