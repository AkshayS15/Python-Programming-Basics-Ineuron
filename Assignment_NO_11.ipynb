{
  "nbformat": 4,
  "nbformat_minor": 0,
  "metadata": {
    "colab": {
      "name": "Assignment_NO.11.ipynb",
      "provenance": [],
      "collapsed_sections": []
    },
    "kernelspec": {
      "name": "python3",
      "display_name": "Python 3"
    },
    "language_info": {
      "name": "python"
    }
  },
  "cells": [
    {
      "cell_type": "markdown",
      "source": [
        "**1. Write a Python program to find words which are greater than given length k?**  \n",
        "ANS - "
      ],
      "metadata": {
        "id": "G9hG4esQKDVp"
      }
    },
    {
      "cell_type": "code",
      "source": [
        "def greater_str():\n",
        "  n = int(input(\"enter length of string : \"))\n",
        "  s = input(\"enter a string : \")\n",
        "  l = []\n",
        "  for str in s.split(\" \"):\n",
        "    if len(str) > n :\n",
        "      l.append(str)\n",
        "  print(\"following strings are greater than given k length \\n\" , l)\n",
        "\n",
        "greater_str()"
      ],
      "metadata": {
        "colab": {
          "base_uri": "https://localhost:8080/"
        },
        "id": "OEIxgV5rKHoe",
        "outputId": "33ee58b5-1ed5-482c-d59f-a7d143258926"
      },
      "execution_count": 7,
      "outputs": [
        {
          "output_type": "stream",
          "name": "stdout",
          "text": [
            "enter length of string : 5\n",
            "enter a string : superman is stronger than thor\n",
            "following strings are greater than given k length \n",
            " ['superman', 'stronger']\n"
          ]
        }
      ]
    },
    {
      "cell_type": "markdown",
      "source": [
        "**2. Write a Python program for removing i-th character from a string?**  \n",
        "ANS - "
      ],
      "metadata": {
        "id": "SJWNBZ1EM-hi"
      }
    },
    {
      "cell_type": "code",
      "source": [
        "def remove_str():\n",
        "  i = int(input(\"enter ith character :\" ))\n",
        "  in_str = (input(\"enter a string : \"))\n",
        "  for j in range(len(in_str)):\n",
        "    if j == i :\n",
        "      in_str = in_str.replace(in_str[i], \"\")\n",
        "  print(\"the new string is :\" , in_str) \n",
        "\n",
        "remove_str()"
      ],
      "metadata": {
        "colab": {
          "base_uri": "https://localhost:8080/"
        },
        "id": "5_7wA2QiNBzc",
        "outputId": "b83311aa-0bd3-4117-959d-2edad6b016d6"
      },
      "execution_count": 12,
      "outputs": [
        {
          "output_type": "stream",
          "name": "stdout",
          "text": [
            "enter ith character :3\n",
            "enter a string : Superman\n",
            "the new string is : Suprman\n"
          ]
        }
      ]
    },
    {
      "cell_type": "markdown",
      "source": [
        "**3. Write a Python program to split and join a string?**  \n",
        "ANS - "
      ],
      "metadata": {
        "id": "-kv3FqupPGCv"
      }
    },
    {
      "cell_type": "code",
      "source": [
        "in_str = input(\"enter your string : \")\n",
        "split_str = in_str.split()\n",
        "print('splitted string is \\n ', split_str)\n",
        "\n",
        "joint_str = ' '.join(split_str)\n",
        "print('Joined string is \\n' , joint_str)"
      ],
      "metadata": {
        "colab": {
          "base_uri": "https://localhost:8080/"
        },
        "id": "ExP-FCF-PJCx",
        "outputId": "02a0e0d7-8027-4118-f2ae-c8a6f06a35c2"
      },
      "execution_count": 13,
      "outputs": [
        {
          "output_type": "stream",
          "name": "stdout",
          "text": [
            "enter your string : superman is the best superhero\n",
            "splitted string is \n",
            "  ['superman', 'is', 'the', 'best', 'superhero']\n",
            "Joined string is \n",
            " superman is the best superhero\n"
          ]
        }
      ]
    },
    {
      "cell_type": "markdown",
      "source": [
        "**4. Write a Python to check if a given string is binary string or not?**  \n",
        "ANS - "
      ],
      "metadata": {
        "id": "XzahQcbXQHYu"
      }
    },
    {
      "cell_type": "code",
      "source": [
        "def checkBinary(str):\n",
        "    binary = '01'\n",
        "    for i in range(len(str)):\n",
        "        if str[i] not in binary:\n",
        "            print('Not Binary')\n",
        "            break\n",
        "    else:\n",
        "        print(\"it's a binary\")\n",
        "        \n",
        "str = input(\"Enter the string : \")\n",
        "checkBinary(str)"
      ],
      "metadata": {
        "colab": {
          "base_uri": "https://localhost:8080/"
        },
        "id": "eRxATyWNQLX1",
        "outputId": "4d70183e-b2fd-49be-f004-cf157c3d730b"
      },
      "execution_count": 14,
      "outputs": [
        {
          "output_type": "stream",
          "name": "stdout",
          "text": [
            "Enter the string : 010100110101\n",
            "it's a binary\n"
          ]
        }
      ]
    },
    {
      "cell_type": "markdown",
      "source": [
        "**5. Write a Python program to find uncommon words from two Strings?**  \n",
        "ANS - "
      ],
      "metadata": {
        "id": "NndwSLFjQub1"
      }
    },
    {
      "cell_type": "code",
      "source": [
        "a = input('enter first string : ')\n",
        "b = input('enter second string : ')\n",
        "\n",
        "for i in a :\n",
        "  if i not in b :\n",
        "  \n",
        "   print( i, end = '')"
      ],
      "metadata": {
        "colab": {
          "base_uri": "https://localhost:8080/"
        },
        "id": "wtcrjVo3QwwO",
        "outputId": "876ef7a5-6b88-44e9-cc64-328aefeed0a1"
      },
      "execution_count": 22,
      "outputs": [
        {
          "output_type": "stream",
          "name": "stdout",
          "text": [
            "enter first string : superman \n",
            "enter second string : batman\n",
            "super "
          ]
        }
      ]
    },
    {
      "cell_type": "markdown",
      "source": [
        "**6.Write a Python to find all duplicate characters in string?**  \n",
        "ANS - "
      ],
      "metadata": {
        "id": "XV0wabhcS2Lt"
      }
    },
    {
      "cell_type": "code",
      "source": [
        "str = input(\"Enter the string a : \").lower()\n",
        "duplicate = []\n",
        "\n",
        "for i in str:\n",
        "    if str.count(i) > 1 :\n",
        "        if i not in duplicate:\n",
        "            duplicate.append(i)\n",
        "        \n",
        "duplicate"
      ],
      "metadata": {
        "colab": {
          "base_uri": "https://localhost:8080/"
        },
        "id": "8stNOlwkS5oG",
        "outputId": "d3e36a18-d3be-4441-f4b2-2415ffe7b131"
      },
      "execution_count": 23,
      "outputs": [
        {
          "name": "stdout",
          "output_type": "stream",
          "text": [
            "Enter the string a : Akshay\n"
          ]
        },
        {
          "output_type": "execute_result",
          "data": {
            "text/plain": [
              "['a']"
            ]
          },
          "metadata": {},
          "execution_count": 23
        }
      ]
    },
    {
      "cell_type": "markdown",
      "source": [
        "**7. Write a Python Program to check if a string contains any special character?**  \n",
        "ANS - "
      ],
      "metadata": {
        "id": "rdCheFi0T1Pr"
      }
    },
    {
      "cell_type": "code",
      "source": [
        "special_characters = '!@#$%^&*()-+?_=,<>/'\n",
        "my_str = 'A#PeKa<@>'\n",
        "\n",
        "if any(i in special_characters for i in my_str):\n",
        "    print(\"It contains special character\")\n",
        "else:\n",
        "    print(\"it doesn't contains special character\")"
      ],
      "metadata": {
        "colab": {
          "base_uri": "https://localhost:8080/"
        },
        "id": "B-ijeVATT4SH",
        "outputId": "4fb6322d-c5b2-4b67-e199-4539b7bda44d"
      },
      "execution_count": 25,
      "outputs": [
        {
          "output_type": "stream",
          "name": "stdout",
          "text": [
            "It contains special character\n"
          ]
        }
      ]
    }
  ]
}