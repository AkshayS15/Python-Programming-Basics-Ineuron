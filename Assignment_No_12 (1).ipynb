{
  "nbformat": 4,
  "nbformat_minor": 0,
  "metadata": {
    "colab": {
      "name": "Assignment_No.12.ipynb",
      "provenance": [],
      "collapsed_sections": []
    },
    "kernelspec": {
      "name": "python3",
      "display_name": "Python 3"
    },
    "language_info": {
      "name": "python"
    }
  },
  "cells": [
    {
      "cell_type": "markdown",
      "source": [
        "**1. Write a Python program to Extract Unique values dictionary values?**  \n",
        "ANS - "
      ],
      "metadata": {
        "id": "3r-l440sXN0a"
      }
    },
    {
      "cell_type": "code",
      "source": [
        "dict = {\"a\":2,\"b\":4,\"c\":6,\"d\":6,\"e\":9,\"f\":2}\n",
        "L = []\n",
        "for i in dict.values():\n",
        "  if i not in L :\n",
        "    L.append(i)\n",
        "\n",
        "print(\"The unique values are : \" , L)"
      ],
      "metadata": {
        "colab": {
          "base_uri": "https://localhost:8080/"
        },
        "id": "c8ZXddFQXRbw",
        "outputId": "297ce636-997d-49da-83b1-2aff5c0c3e46"
      },
      "execution_count": 3,
      "outputs": [
        {
          "output_type": "stream",
          "name": "stdout",
          "text": [
            "The unique values are :  [2, 4, 6, 9]\n"
          ]
        }
      ]
    },
    {
      "cell_type": "markdown",
      "source": [
        "**2. Write a Python program to find the sum of all items in a dictionary?**  \n",
        "ANS - "
      ],
      "metadata": {
        "id": "_1BBtAcoYekV"
      }
    },
    {
      "cell_type": "code",
      "source": [
        "dict = {\"a\":2,\"b\":4,\"c\":6,\"d\":6,\"e\":9,\"f\":2}\n",
        "sum = 0\n",
        "for i in dict.values():\n",
        "  sum +=i\n",
        "\n",
        "print('the sum of items is : ', sum)"
      ],
      "metadata": {
        "colab": {
          "base_uri": "https://localhost:8080/"
        },
        "id": "raANeBnlYiGB",
        "outputId": "6d1b2763-32f6-4306-e340-e29d2cbb9f4f"
      },
      "execution_count": 5,
      "outputs": [
        {
          "output_type": "stream",
          "name": "stdout",
          "text": [
            "the sum of items is :  29\n"
          ]
        }
      ]
    },
    {
      "cell_type": "markdown",
      "source": [
        "**3.Write a Python program to Merging two Dictionaries?**  \n",
        "ANS - "
      ],
      "metadata": {
        "id": "BpmdpGbvZAPT"
      }
    },
    {
      "cell_type": "code",
      "source": [
        "dict1 = {'a':1, 'b':2, 'c':3, 'd':5}\n",
        "dict2 = {'f':8, 'h':7, 'j':6, 'k':4}\n",
        "dict1.update(dict2)\n",
        "\n",
        "dict1 #new dictionary"
      ],
      "metadata": {
        "colab": {
          "base_uri": "https://localhost:8080/"
        },
        "id": "82Garm7gZDRO",
        "outputId": "dc44730a-a4bd-4943-8a77-93c17ba4d1f2"
      },
      "execution_count": 7,
      "outputs": [
        {
          "output_type": "execute_result",
          "data": {
            "text/plain": [
              "{'a': 1, 'b': 2, 'c': 3, 'd': 5, 'f': 8, 'h': 7, 'j': 6, 'k': 4}"
            ]
          },
          "metadata": {},
          "execution_count": 7
        }
      ]
    },
    {
      "cell_type": "markdown",
      "source": [
        "**4.Write a Python program to convert key-values list to flat dictionary?**  \n",
        "ANS - "
      ],
      "metadata": {
        "id": "EV53eY1wZQAI"
      }
    },
    {
      "cell_type": "code",
      "source": [
        "in_list = [('A',10),('B',20),('C',30),('D',40),('E',50),('F',60),('G',70),('H',80),('I',90),('J',100)]\n",
        "\n",
        "# Method #1\n",
        "dict(in_list)\n",
        "\n",
        "# Method #2\n",
        "out_dict = {}\n",
        "for ele in in_list:\n",
        "    out_dict[ele[0]] = ele[1]\n",
        "print(out_dict)"
      ],
      "metadata": {
        "id": "nOQUNQ2dZtBE"
      },
      "execution_count": null,
      "outputs": []
    },
    {
      "cell_type": "markdown",
      "source": [
        "**5.Write a Python program to insertion at the beginning in OrderedDict?**  \n",
        "ANS - "
      ],
      "metadata": {
        "id": "iJ2Ml32NaCgW"
      }
    },
    {
      "cell_type": "code",
      "source": [
        "from collections import OrderedDict\n",
        "  \n",
        "# initialising ordered_dict\n",
        "iniordered_dict = OrderedDict([('Feb', '2'), ('Mar', '3')])\n",
        "  \n",
        "# inserting items in starting of dict \n",
        "iniordered_dict.update({'Jan':'1'})\n",
        "iniordered_dict.move_to_end('Jan', last = False)\n",
        "  \n",
        "# print result\n",
        "print (\"Ordered Dictionary after insertion : \"+str(iniordered_dict))"
      ],
      "metadata": {
        "colab": {
          "base_uri": "https://localhost:8080/"
        },
        "id": "boU60jWuaFjm",
        "outputId": "4d7a5a8e-6323-4f5e-ab3e-d352d713ed0a"
      },
      "execution_count": 13,
      "outputs": [
        {
          "output_type": "stream",
          "name": "stdout",
          "text": [
            "Ordered Dictionary after insertion : OrderedDict([('Jan', '1'), ('Feb', '2'), ('Mar', '3')])\n"
          ]
        }
      ]
    },
    {
      "cell_type": "markdown",
      "source": [
        "**6. Write a Python program to check order of character in string using OrderedDict()?**  \n",
        "ANS - "
      ],
      "metadata": {
        "id": "_ogjidOnaPOU"
      }
    },
    {
      "cell_type": "code",
      "source": [
        "from collections import OrderedDict\n",
        "\n",
        "initial_list = {'a': 1000, 'f': 200, 'd': 300, 'c': 400, 'b': 500, 'e': 600}\n",
        "print(initial_list)\n",
        "\n",
        "final_list = OrderedDict(dict(sorted(initial_list.items())))\n",
        "print(final_list)"
      ],
      "metadata": {
        "id": "ZNeG_YryaQq3"
      },
      "execution_count": null,
      "outputs": []
    },
    {
      "cell_type": "markdown",
      "source": [
        "**7. Write a Python program to sort Python Dictionaries by Key or Value?**  \n",
        "ANS - "
      ],
      "metadata": {
        "id": "WaBeo0XPa5W4"
      }
    },
    {
      "cell_type": "code",
      "source": [
        "from collections import OrderedDict\n",
        "dict_one = OrderedDict({'Apple':'Iphone','Microsoft':'Windows','Google':'chrome'})\n",
        "print('dict_one',dict_one)\n",
        "dict_two = {'Tesla':'SpaceX'}\n",
        "dict_one.update(dict_two)\n",
        "print('dict_one',dict_one)\n",
        "dict_one.move_to_end('Tesla',last=False)\n",
        "print('dict_one',dict_one)"
      ],
      "metadata": {
        "colab": {
          "base_uri": "https://localhost:8080/"
        },
        "id": "IMfePgNebFPi",
        "outputId": "e3a81e71-ed1d-43b8-9288-1ce8e2a57bd3"
      },
      "execution_count": 18,
      "outputs": [
        {
          "output_type": "stream",
          "name": "stdout",
          "text": [
            "dict_one OrderedDict([('Apple', 'Iphone'), ('Microsoft', 'Windows'), ('Google', 'chrome')])\n",
            "dict_one OrderedDict([('Apple', 'Iphone'), ('Microsoft', 'Windows'), ('Google', 'chrome'), ('Tesla', 'SpaceX')])\n",
            "dict_one OrderedDict([('Tesla', 'SpaceX'), ('Apple', 'Iphone'), ('Microsoft', 'Windows'), ('Google', 'chrome')])\n"
          ]
        }
      ]
    }
  ]
}