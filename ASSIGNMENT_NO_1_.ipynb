{
  "nbformat": 4,
  "nbformat_minor": 0,
  "metadata": {
    "colab": {
      "name": "ASSIGNMENT NO.1 .ipynb",
      "provenance": [],
      "collapsed_sections": []
    },
    "kernelspec": {
      "name": "python3",
      "display_name": "Python 3"
    },
    "language_info": {
      "name": "python"
    }
  },
  "cells": [
    {
      "cell_type": "markdown",
      "source": [
        "**1.write a Python program to print \"Hello Python\"**  \n",
        "ANS - "
      ],
      "metadata": {
        "id": "ygrRPkJe6d8n"
      }
    },
    {
      "cell_type": "code",
      "source": [
        "print(\"Hello Python\")"
      ],
      "metadata": {
        "colab": {
          "base_uri": "https://localhost:8080/"
        },
        "id": "WQlf7qtE6j3E",
        "outputId": "6ccf4fb7-9212-4f15-f407-d58e2db41fed"
      },
      "execution_count": 1,
      "outputs": [
        {
          "output_type": "stream",
          "name": "stdout",
          "text": [
            "Hello Python\n"
          ]
        }
      ]
    },
    {
      "cell_type": "markdown",
      "source": [
        "**2. Write a Python program to do arithmetical operations addition and division.?**  \n",
        "ANS - "
      ],
      "metadata": {
        "id": "y0qozxyX6o6c"
      }
    },
    {
      "cell_type": "code",
      "source": [
        "a = int(input())\n",
        "b = int(input())\n",
        "\n",
        "addition = a + b \n",
        "\n",
        "division = a/b \n",
        "\n",
        "print(\"The addition of a and b is\" , addition)\n",
        "print(\"The division of a and b is \" , division)"
      ],
      "metadata": {
        "colab": {
          "base_uri": "https://localhost:8080/"
        },
        "id": "q1XP27iA680O",
        "outputId": "c538cf34-2e3b-4361-d9e5-76b4bde9d97e"
      },
      "execution_count": 2,
      "outputs": [
        {
          "output_type": "stream",
          "name": "stdout",
          "text": [
            "56\n",
            "91\n",
            "The addition of a and b is 147\n",
            "The division of a and b is  0.6153846153846154\n"
          ]
        }
      ]
    },
    {
      "cell_type": "markdown",
      "source": [
        "**3. Write a Python program to find the area of a triangle?**  \n",
        "ANS - "
      ],
      "metadata": {
        "id": "vK8TT_9E7lee"
      }
    },
    {
      "cell_type": "code",
      "source": [
        "#Area of Triangle \n",
        "#Formula to Find the area of Triangle is = (1/2) * base * height\n",
        "\n",
        "base = int(input(\" Enter value of base \"))\n",
        "height = int(input(\" Enter value of height \")) \n",
        "\n",
        "area = ((1/2)*base*height)\n",
        "\n",
        "print(\"The area of given Triangle is\" , area)\n"
      ],
      "metadata": {
        "colab": {
          "base_uri": "https://localhost:8080/"
        },
        "id": "dn0F3VCz7pYc",
        "outputId": "82631c5e-9624-46dd-888e-b3640008b9fb"
      },
      "execution_count": 5,
      "outputs": [
        {
          "output_type": "stream",
          "name": "stdout",
          "text": [
            " Enter value of base 56\n",
            " Enter value of height 78\n",
            "The area of given Triangle is 2184.0\n"
          ]
        }
      ]
    },
    {
      "cell_type": "markdown",
      "source": [
        "**4. Write a Python program to swap two variables?**  \n",
        "ANS - "
      ],
      "metadata": {
        "id": "gAasK64Y8pBX"
      }
    },
    {
      "cell_type": "code",
      "source": [
        "a = int(input(\"Enter value of a \"))\n",
        "b = int(input(\"Enter value of b \"))\n",
        "\n",
        "temp = a \n",
        "a = b\n",
        "b = temp\n",
        "\n",
        "\n",
        "\n",
        "print(\"The value of a after swaping: {}\".format(a))\n",
        "print(\"The value of b after swaping: {}\".format(b))"
      ],
      "metadata": {
        "colab": {
          "base_uri": "https://localhost:8080/"
        },
        "id": "707oZm-t80lp",
        "outputId": "01aad9df-0ae1-49d4-f86a-9bcc06d6b989"
      },
      "execution_count": 19,
      "outputs": [
        {
          "output_type": "stream",
          "name": "stdout",
          "text": [
            "Enter value of a 5\n",
            "Enter value of b 10\n",
            "The value of a after swaping: 10\n",
            "The value of b after swaping: 5\n"
          ]
        }
      ]
    },
    {
      "cell_type": "markdown",
      "source": [
        "**5. Write a Python program to generate a random number?**  \n",
        "ANS - "
      ],
      "metadata": {
        "id": "PPrAIP3S-51r"
      }
    },
    {
      "cell_type": "code",
      "source": [
        "import random \n",
        "Number = random.random()\n",
        "print(Number)"
      ],
      "metadata": {
        "colab": {
          "base_uri": "https://localhost:8080/"
        },
        "id": "4gQSwP6H_DWp",
        "outputId": "e1b12edd-4ff6-4811-ba06-668f7bb503e9"
      },
      "execution_count": 21,
      "outputs": [
        {
          "output_type": "stream",
          "name": "stdout",
          "text": [
            "0.5340470481771599\n"
          ]
        }
      ]
    },
    {
      "cell_type": "code",
      "source": [
        "No = random.randint(0,5000)\n",
        "print(No)"
      ],
      "metadata": {
        "colab": {
          "base_uri": "https://localhost:8080/"
        },
        "id": "5OTVitl9_Pex",
        "outputId": "803496b1-d397-467d-ad13-22f8f52d4077"
      },
      "execution_count": 25,
      "outputs": [
        {
          "output_type": "stream",
          "name": "stdout",
          "text": [
            "2213\n"
          ]
        }
      ]
    }
  ]
}