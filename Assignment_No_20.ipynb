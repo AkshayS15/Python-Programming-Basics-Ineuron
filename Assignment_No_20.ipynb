{
  "nbformat": 4,
  "nbformat_minor": 0,
  "metadata": {
    "colab": {
      "provenance": []
    },
    "kernelspec": {
      "name": "python3",
      "display_name": "Python 3"
    },
    "language_info": {
      "name": "python"
    }
  },
  "cells": [
    {
      "cell_type": "markdown",
      "source": [
        "Question1  \n",
        "Create a function that takes a list of strings and integers, and filters out the list so that it    \n",
        "returns a list of integers only.  \n",
        "Examples  \n",
        "filter_list([1, 2, 3, &quot;a&quot;, &quot;b&quot;, 4]) ➞ [1, 2, 3, 4]  \n",
        "filter_list([&quot;A&quot;, 0, &quot;Edabit&quot;, 1729, &quot;Python&quot;, &quot;1729&quot;]) ➞ [0, 1729]  \n",
        "filter_list([&quot;Nothing&quot;, &quot;here&quot;]) ➞ []  "
      ],
      "metadata": {
        "id": "YANAYkKPMk9y"
      }
    },
    {
      "cell_type": "code",
      "execution_count": 1,
      "metadata": {
        "colab": {
          "base_uri": "https://localhost:8080/"
        },
        "id": "yrJrBKA0MOMf",
        "outputId": "98a2ba26-2535-4337-9feb-9f78f5903284"
      },
      "outputs": [
        {
          "output_type": "execute_result",
          "data": {
            "text/plain": [
              "[1, 2, 3, 4]"
            ]
          },
          "metadata": {},
          "execution_count": 1
        }
      ],
      "source": [
        "def filter_list(list1):\n",
        "  int_list = []\n",
        "  for i in list1 :\n",
        "    if type(i) == int :\n",
        "      int_list.append(i)\n",
        "  return int_list\n",
        "\n",
        "\n",
        "filter_list([1, 2, 3, \"a\", \"b\", 4])"
      ]
    },
    {
      "cell_type": "markdown",
      "source": [
        "Question2  \n",
        "Given a list of numbers, create a function which returns the list but with each element&#39;s  \n",
        "index in the list added to itself. This means you add 0 to the number at index 0, add 1 to the  \n",
        "number at index 1, etc...  \n",
        "Examples  \n",
        "add_indexes([0, 0, 0, 0, 0]) ➞ [0, 1, 2, 3, 4]  \n",
        "add_indexes([1, 2, 3, 4, 5]) ➞ [1, 3, 5, 7, 9]  \n",
        "add_indexes([5, 4, 3, 2, 1]) ➞ [5, 5, 5, 5, 5]  "
      ],
      "metadata": {
        "id": "kSjIQbuBNF7b"
      }
    },
    {
      "cell_type": "code",
      "source": [
        "def add_indexes(l):\n",
        "  l1 = []\n",
        "  for i in range(len(l)):\n",
        "    l1.append(i+l[i])\n",
        "  return l1\n",
        "\n",
        "add_indexes([5, 4, 3, 2, 1])"
      ],
      "metadata": {
        "colab": {
          "base_uri": "https://localhost:8080/"
        },
        "id": "_AbugY5TNnIg",
        "outputId": "6497aa0f-033c-414d-8428-16e2a3936f72"
      },
      "execution_count": 8,
      "outputs": [
        {
          "output_type": "execute_result",
          "data": {
            "text/plain": [
              "[5, 5, 5, 5, 5]"
            ]
          },
          "metadata": {},
          "execution_count": 8
        }
      ]
    },
    {
      "cell_type": "markdown",
      "source": [
        "Question3  \n",
        "Create a function that takes the height and radius of a cone as arguments and returns the  \n",
        "volume of the cone rounded to the nearest hundredth. See the resources tab for the formula.  \n",
        "\n",
        "Examples  \n",
        "cone_volume(3, 2) ➞ 12.57  \n",
        "\n",
        "cone_volume(15, 6) ➞ 565.49  \n",
        "cone_volume(18, 0) ➞ 0  "
      ],
      "metadata": {
        "id": "Sox9dY44Oipy"
      }
    },
    {
      "cell_type": "code",
      "source": [
        "import math\n",
        "def cone_volume(h,r):\n",
        "  pi = math.pi\n",
        "  return round((1 / 3) * pi * r * r * h,2)\n",
        "\n",
        "cone_volume(15,6)"
      ],
      "metadata": {
        "colab": {
          "base_uri": "https://localhost:8080/"
        },
        "id": "AUMjGbV-N9Zu",
        "outputId": "498be734-dc48-42aa-8a19-fda683ee24d8"
      },
      "execution_count": 11,
      "outputs": [
        {
          "output_type": "execute_result",
          "data": {
            "text/plain": [
              "565.49"
            ]
          },
          "metadata": {},
          "execution_count": 11
        }
      ]
    },
    {
      "cell_type": "markdown",
      "source": [
        "Question4  \n",
        "This Triangular Number Sequence is generated from a pattern of dots that form a triangle.  \n",
        "The first 5 numbers of the sequence, or dots, are:  \n",
        "1, 3, 6, 10, 15  \n",
        "This means that the first triangle has just one dot, the second one has three dots, the third one  \n",
        "has 6 dots and so on.  \n",
        "Write a function that gives the number of dots with its corresponding triangle number of the  \n",
        "sequence.  \n",
        "Examples  \n",
        "triangle(1) ➞ 1  \n",
        "triangle(6) ➞ 21    \n",
        "triangle(215) ➞ 23220  "
      ],
      "metadata": {
        "id": "jo9YFL57PWm5"
      }
    },
    {
      "cell_type": "code",
      "source": [
        "def triangle(n):\n",
        "  return n*(n+1)/2\n",
        "\n",
        "triangle(6)"
      ],
      "metadata": {
        "colab": {
          "base_uri": "https://localhost:8080/"
        },
        "id": "8SupE54WQKo3",
        "outputId": "61610c9f-7b2a-4ad1-f706-2505e0b736da"
      },
      "execution_count": 17,
      "outputs": [
        {
          "output_type": "execute_result",
          "data": {
            "text/plain": [
              "21.0"
            ]
          },
          "metadata": {},
          "execution_count": 17
        }
      ]
    },
    {
      "cell_type": "markdown",
      "source": [
        "Question5  \n",
        "Create a function that takes a list of numbers between 1 and 10 (excluding one number) and  \n",
        "returns the missing number.  \n",
        "Examples  \n",
        "missing_num([1, 2, 3, 4, 6, 7, 8, 9, 10]) ➞ 5  \n",
        "missing_num([7, 2, 3, 6, 5, 9, 1, 4, 8]) ➞ 10  \n",
        "missing_num([10, 5, 1, 2, 4, 6, 8, 3, 9]) ➞ 7  "
      ],
      "metadata": {
        "id": "Wx0lJ7cnQvUi"
      }
    },
    {
      "cell_type": "code",
      "source": [
        "def missing_num(list1):\n",
        "  for i in range(1,11):\n",
        "    if i not in list1 :\n",
        "      return i\n",
        "\n",
        "missing_num([10, 5, 1, 2, 4, 6, 8, 3, 9]) "
      ],
      "metadata": {
        "colab": {
          "base_uri": "https://localhost:8080/"
        },
        "id": "1-iC3ee-QjNB",
        "outputId": "80ec3336-8cb2-4830-f715-7c0dc7c736a8"
      },
      "execution_count": 22,
      "outputs": [
        {
          "output_type": "execute_result",
          "data": {
            "text/plain": [
              "7"
            ]
          },
          "metadata": {},
          "execution_count": 22
        }
      ]
    }
  ]
}