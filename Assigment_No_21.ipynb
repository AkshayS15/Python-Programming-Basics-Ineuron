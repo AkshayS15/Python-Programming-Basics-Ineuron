{
  "nbformat": 4,
  "nbformat_minor": 0,
  "metadata": {
    "colab": {
      "provenance": []
    },
    "kernelspec": {
      "name": "python3",
      "display_name": "Python 3"
    },
    "language_info": {
      "name": "python"
    }
  },
  "cells": [
    {
      "cell_type": "markdown",
      "source": [
        "Question1  \n",
        "Write a function that takes a list and a number as arguments. Add the number to the end of  \n",
        "the list, then remove the first element of the list. The function should then return the updated  \n",
        "list.  \n",
        "Examples  \n",
        "next_in_line([5, 6, 7, 8, 9], 1) ➞ [6, 7, 8, 9, 1]  \n",
        "next_in_line([7, 6, 3, 23, 17], 10) ➞ [6, 3, 23, 17, 10]  \n",
        "next_in_line([1, 10, 20, 42 ], 6) ➞ [10, 20, 42, 6]  \n",
        "next_in_line([], 6) ➞ &quot;No list has been selected&quot;  "
      ],
      "metadata": {
        "id": "8IxSMwHUSYrC"
      }
    },
    {
      "cell_type": "code",
      "execution_count": 7,
      "metadata": {
        "colab": {
          "base_uri": "https://localhost:8080/"
        },
        "id": "M3SX5QMBSUSo",
        "outputId": "7dd26888-185c-40dc-c7f1-82a9f91cd40c"
      },
      "outputs": [
        {
          "output_type": "execute_result",
          "data": {
            "text/plain": [
              "[6, 7, 8, 9, 1]"
            ]
          },
          "metadata": {},
          "execution_count": 7
        }
      ],
      "source": [
        "def next_in_line(list1,num):\n",
        "  list1.pop(0)\n",
        "  list1.append(num)\n",
        "  return list1\n",
        "\n",
        "next_in_line([5, 6, 7, 8, 9], 1)"
      ]
    },
    {
      "cell_type": "markdown",
      "source": [
        "Question2  \n",
        "Create the function that takes a list of dictionaries and returns the sum of people&#39;s budgets.  \n",
        "Examples    \n",
        "get_budgets([\n",
        "{ &quot;name&quot;: &quot;John&quot;, &quot;age&quot;: 21, &quot;budget&quot;: 23000 },\n",
        "{ &quot;name&quot;: &quot;Steve&quot;, &quot;age&quot;: 32, &quot;budget&quot;: 40000 },\n",
        "{ &quot;name&quot;: &quot;Martin&quot;, &quot;age&quot;: 16, &quot;budget&quot;: 2700 }  \n",
        "]) ➞ 65700  \n",
        "get_budgets([\n",
        "{ &quot;name&quot;: &quot;John&quot;, &quot;age&quot;: 21, &quot;budget&quot;: 29000 },\n",
        "{ &quot;name&quot;: &quot;Steve&quot;, &quot;age&quot;: 32, &quot;budget&quot;: 32000 },\n",
        "{ &quot;name&quot;: &quot;Martin&quot;, &quot;age&quot;: 16, &quot;budget&quot;: 1600 }  \n",
        "]) ➞ 62600  "
      ],
      "metadata": {
        "id": "M3AIP3F0TKJJ"
      }
    },
    {
      "cell_type": "code",
      "source": [
        "def get_budgets(list1) :\n",
        "  sum = 0 \n",
        "  for i in list1 :\n",
        "    for keys,vals in i.items() :\n",
        "      if keys == 'budget':\n",
        "        sum+=vals\n",
        "  return sum\n",
        "\n",
        "get_budgets([ { \"name\": \"John\", \"age\": 21, \"budget\": 23000 }, { \"name\": \"Steve\", \"age\": 32, \"budget\": 40000 }, \n",
        " { \"name\": \"Martin\", \"age\": 16, \"budget\": 2700 }])"
      ],
      "metadata": {
        "colab": {
          "base_uri": "https://localhost:8080/"
        },
        "id": "__7b7deXTtmj",
        "outputId": "beede8a5-fc39-409c-ea2b-fdd4e92afc58"
      },
      "execution_count": 17,
      "outputs": [
        {
          "output_type": "execute_result",
          "data": {
            "text/plain": [
              "65700"
            ]
          },
          "metadata": {},
          "execution_count": 17
        }
      ]
    },
    {
      "cell_type": "markdown",
      "source": [
        "Question3  \n",
        "Create a function that takes a string and returns a string with its letters in alphabetical order.  \n",
        "Examples  \n",
        "alphabet_soup(&quot;hello&quot;) ➞ &quot;ehllo&quot;  \n",
        "alphabet_soup(&quot;edabit&quot;) ➞ &quot;abdeit&quot;  \n",
        "alphabet_soup(&quot;hacker&quot;) ➞ &quot;acehkr&quot;  \n",
        "alphabet_soup(&quot;geek&quot;) ➞ &quot;eegk&quot;  \n",
        "alphabet_soup(&quot;javascript&quot;) ➞ &quot;aacijprstv&quot;  "
      ],
      "metadata": {
        "id": "xE1KARgqUxYp"
      }
    },
    {
      "cell_type": "code",
      "source": [
        "def alphabet_soup(str1):\n",
        "  l = [i for i in str1]\n",
        "  str1 = ''.join(sorted(l))\n",
        "  return str1\n",
        "\n",
        "alphabet_soup(\"javascript\")"
      ],
      "metadata": {
        "colab": {
          "base_uri": "https://localhost:8080/",
          "height": 36
        },
        "id": "nItN_S_JVMtr",
        "outputId": "408732d5-2506-4876-c403-75c41651522a"
      },
      "execution_count": 25,
      "outputs": [
        {
          "output_type": "execute_result",
          "data": {
            "text/plain": [
              "'aacijprstv'"
            ],
            "application/vnd.google.colaboratory.intrinsic+json": {
              "type": "string"
            }
          },
          "metadata": {},
          "execution_count": 25
        }
      ]
    },
    {
      "cell_type": "markdown",
      "source": [
        "Question4  \n",
        "Suppose that you invest $10,000 for 10 years at an interest rate of 6% compounded monthly.  \n",
        "What will be the value of your investment at the end of the 10 year period?\n",
        "Create a function that accepts the principal p, the term in years t, the interest rate r, and the  \n",
        "number of compounding periods per year n. The function returns the value at the end of term  \n",
        "rounded to the nearest cent.  \n",
        "For the example above:  \n",
        "compound_interest(10000, 10, 0.06, 12) ➞ 18193.97  \n",
        "Note that the interest rate is given as a decimal and n=12 because with monthly compounding  \n",
        "there are 12 periods per year. Compounding can also be done annually, quarterly, weekly, or  \n",
        "daily.  \n",
        "Examples   \n",
        "compound_interest(100, 1, 0.05, 1) ➞ 105.0  \n",
        "compound_interest(3500, 15, 0.1, 4) ➞ 15399.26  \n",
        "compound_interest(100000, 20, 0.15, 365) ➞ 2007316.26  "
      ],
      "metadata": {
        "id": "m3Im2ezRVd7o"
      }
    },
    {
      "cell_type": "code",
      "source": [
        "def compound_interest(amt, years, intrest, compPeriod):\n",
        "    future_value = amt *(1 + (intrest/compPeriod)) ** (years * compPeriod)\n",
        "    return round(future_value,2)"
      ],
      "metadata": {
        "id": "_I2S2XrnVbTv"
      },
      "execution_count": 26,
      "outputs": []
    },
    {
      "cell_type": "code",
      "source": [
        "compound_interest(3500, 15, 0.1, 4)"
      ],
      "metadata": {
        "colab": {
          "base_uri": "https://localhost:8080/"
        },
        "id": "Hc-RJEQgV2AU",
        "outputId": "8e250dd2-fbe1-4e24-aeac-03821f02f71b"
      },
      "execution_count": 27,
      "outputs": [
        {
          "output_type": "execute_result",
          "data": {
            "text/plain": [
              "15399.26"
            ]
          },
          "metadata": {},
          "execution_count": 27
        }
      ]
    },
    {
      "cell_type": "markdown",
      "source": [
        "Question5  \n",
        "Write a function that takes a list of elements and returns only the integers.\n",
        "Examples  \n",
        "return_only_integer([9, 2, &quot;space&quot;, &quot;car&quot;, &quot;lion&quot;, 16]) ➞ [9, 2, 16]  \n",
        "return_only_integer([&quot;hello&quot;, 81, &quot;basketball&quot;, 123, &quot;fox&quot;]) ➞ [81, 123]  \n",
        "return_only_integer([10, &quot;121&quot;, 56, 20, &quot;car&quot;, 3, &quot;lion&quot;]) ➞ [10, 56, 20,\n",
        "3]  \n",
        "return_only_integer([&quot;String&quot;, True, 3.3, 1]) ➞ [1]  "
      ],
      "metadata": {
        "id": "NQW-CcptV50g"
      }
    },
    {
      "cell_type": "code",
      "source": [
        "def return_only_integer(list1):\n",
        "  l = []\n",
        "  for i in list1 :\n",
        "    if type(i) == int :\n",
        "      l.append(i)\n",
        "  return l \n",
        "\n",
        "return_only_integer([\"String\", True, 3.3, 1])"
      ],
      "metadata": {
        "colab": {
          "base_uri": "https://localhost:8080/"
        },
        "id": "Jvn2pdpQV4Ap",
        "outputId": "d3f3f7a9-8f8e-458b-aa43-8a50044c77d7"
      },
      "execution_count": 28,
      "outputs": [
        {
          "output_type": "execute_result",
          "data": {
            "text/plain": [
              "[1]"
            ]
          },
          "metadata": {},
          "execution_count": 28
        }
      ]
    }
  ]
}