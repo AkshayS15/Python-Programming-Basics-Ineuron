{
  "nbformat": 4,
  "nbformat_minor": 0,
  "metadata": {
    "colab": {
      "name": "Assignment_NO.10.ipynb",
      "provenance": [],
      "collapsed_sections": []
    },
    "kernelspec": {
      "name": "python3",
      "display_name": "Python 3"
    },
    "language_info": {
      "name": "python"
    }
  },
  "cells": [
    {
      "cell_type": "markdown",
      "source": [
        "**1. Write a Python program to find sum of elements in list?**  \n",
        "ANS- \n"
      ],
      "metadata": {
        "id": "UFiTU1gQqrKq"
      }
    },
    {
      "cell_type": "code",
      "source": [
        "l = [1,2,3,4,5,9,5658]\n",
        "def sum_list():\n",
        "  sum = 0\n",
        "  for i in l :\n",
        "    sum +=i\n",
        "  return print(\"sum of list is\" , sum)\n",
        "\n",
        "sum_list()\n"
      ],
      "metadata": {
        "colab": {
          "base_uri": "https://localhost:8080/"
        },
        "id": "09NVA8ERqur2",
        "outputId": "2e2afa96-997c-4bf4-aa4e-e8445183aeb3"
      },
      "execution_count": 21,
      "outputs": [
        {
          "output_type": "stream",
          "name": "stdout",
          "text": [
            "sum of list is 5682\n"
          ]
        }
      ]
    },
    {
      "cell_type": "markdown",
      "source": [
        "**2. Write a Python program to Multiply all numbers in the list?**  \n",
        "ANS - "
      ],
      "metadata": {
        "id": "q-cAkZsjuBjg"
      }
    },
    {
      "cell_type": "code",
      "source": [
        "l = [1,2,3,4,5,9,56]\n",
        "def mult_list():\n",
        "  output = 1\n",
        "  for i in l :\n",
        "    output *=i\n",
        "  return print(\"multiplication of list is\" , output)\n",
        "\n",
        "\n",
        "mult_list()"
      ],
      "metadata": {
        "colab": {
          "base_uri": "https://localhost:8080/"
        },
        "id": "yPS1s4OiuGLp",
        "outputId": "f69882aa-7569-4791-8349-29f63002eb46"
      },
      "execution_count": 26,
      "outputs": [
        {
          "output_type": "stream",
          "name": "stdout",
          "text": [
            "multiplication of list is 60480\n"
          ]
        }
      ]
    },
    {
      "cell_type": "markdown",
      "source": [
        "**3. Write a Python program to find smallest number in a list?**  \n",
        "ANS - "
      ],
      "metadata": {
        "id": "IhOVI8ADuiUb"
      }
    },
    {
      "cell_type": "code",
      "source": [
        "l = [4,5,9,56]\n",
        "def small_el():\n",
        "  l1 = sorted(l)\n",
        "  return print(\"the smallest number is \" ,l1[0])\n",
        "\n",
        "small_el()"
      ],
      "metadata": {
        "colab": {
          "base_uri": "https://localhost:8080/"
        },
        "id": "zr-2hr6puj1x",
        "outputId": "fb36fa72-f8a1-49d1-e946-9087f32d795d"
      },
      "execution_count": 34,
      "outputs": [
        {
          "output_type": "stream",
          "name": "stdout",
          "text": [
            "the smallest number is  4\n"
          ]
        }
      ]
    },
    {
      "cell_type": "markdown",
      "source": [
        "**4. Write a Python program to find largest number in a list?**  \n",
        "ANS - "
      ],
      "metadata": {
        "id": "bZXdbU8XvbBr"
      }
    },
    {
      "cell_type": "code",
      "source": [
        "l = [5,8,6,7,56,21,89,562]\n",
        "def large_el():\n",
        "  l1 = sorted(l)\n",
        "  return print(\"the largest number is \", l1[-1])\n",
        "\n",
        "large_el()"
      ],
      "metadata": {
        "colab": {
          "base_uri": "https://localhost:8080/"
        },
        "id": "gqUUFInrvejN",
        "outputId": "e08a2ad4-c021-4035-85ea-e82af2e3f26a"
      },
      "execution_count": 38,
      "outputs": [
        {
          "output_type": "stream",
          "name": "stdout",
          "text": [
            "the largest number is  562\n"
          ]
        }
      ]
    },
    {
      "cell_type": "markdown",
      "source": [
        "**5. Write a Python program to find second largest number in a list?**  \n",
        "ANS - "
      ],
      "metadata": {
        "id": "z5hIWgDEv1jk"
      }
    },
    {
      "cell_type": "code",
      "source": [
        "l = [5,8,6,7,56,21,89,562]\n",
        "def second_large_el():\n",
        "  l1 = sorted(l)\n",
        "  return print(\"the largest number is \", l1[-2])\n",
        "\n",
        "second_large_el()"
      ],
      "metadata": {
        "colab": {
          "base_uri": "https://localhost:8080/"
        },
        "id": "15JIsrgnv4ks",
        "outputId": "78c9a02f-3bb6-4393-dc20-3669e14af8e0"
      },
      "execution_count": 39,
      "outputs": [
        {
          "output_type": "stream",
          "name": "stdout",
          "text": [
            "the largest number is  89\n"
          ]
        }
      ]
    },
    {
      "cell_type": "markdown",
      "source": [
        "**6. Write a Python program to find N largest elements from a list?**  \n",
        "ANS - "
      ],
      "metadata": {
        "id": "3tvZVd0ywGZL"
      }
    },
    {
      "cell_type": "code",
      "source": [
        "l = [5,8,6,7,56,21,89,562,56,86,1542,78,63]\n",
        "def n_large(m):\n",
        "  l1 = sorted(l,reverse = True)\n",
        "  return print(\"the largest numbers are\" , l1[0:m] )\n",
        "\n",
        "n_large(5)"
      ],
      "metadata": {
        "colab": {
          "base_uri": "https://localhost:8080/"
        },
        "id": "V2hnnDvUwKZc",
        "outputId": "a4b52a23-8402-4fba-e3d4-8f8e654f9cc0"
      },
      "execution_count": 52,
      "outputs": [
        {
          "output_type": "stream",
          "name": "stdout",
          "text": [
            "the largest numbers are [1542, 562, 89, 86, 78]\n"
          ]
        }
      ]
    },
    {
      "cell_type": "markdown",
      "source": [
        "**7. Write a Python program to print even numbers in a list?**  \n",
        "ANS - "
      ],
      "metadata": {
        "id": "76EV8fyWxpzy"
      }
    },
    {
      "cell_type": "code",
      "source": [
        "l = [5,8,6,7,56,21,89,562,56,86,1542,78,63]\n",
        "def even_el():\n",
        "  even = []\n",
        "  for i in l :\n",
        "    if i%2 == 0 :\n",
        "      even.append(i)\n",
        "  return print(\"the even numbers are\" , even)\n",
        "\n",
        "even_el()"
      ],
      "metadata": {
        "colab": {
          "base_uri": "https://localhost:8080/"
        },
        "id": "TLZb2lR7xt9l",
        "outputId": "4e183bc4-fc72-409b-ff0f-f44a282d689c"
      },
      "execution_count": 54,
      "outputs": [
        {
          "output_type": "stream",
          "name": "stdout",
          "text": [
            "the even numbers are [8, 6, 56, 562, 56, 86, 1542, 78]\n"
          ]
        }
      ]
    },
    {
      "cell_type": "markdown",
      "source": [
        "**8. Write a Python program to print odd numbers in a List?**  \n",
        "ANS - "
      ],
      "metadata": {
        "id": "OY3PqpuVyORU"
      }
    },
    {
      "cell_type": "code",
      "source": [
        "l = [5,8,6,7,56,21,89,562,56,86,1542,78,63]\n",
        "def odd_el():\n",
        "  odd = []\n",
        "  for i in l :\n",
        "    if i%2 != 0 :\n",
        "      odd.append(i)\n",
        "  return print(\"the even numbers are\" , odd)\n",
        "\n",
        "odd_el()"
      ],
      "metadata": {
        "colab": {
          "base_uri": "https://localhost:8080/"
        },
        "id": "2-WvuYgbySx8",
        "outputId": "03054268-b3a1-4893-b583-3bb34afeba7d"
      },
      "execution_count": 55,
      "outputs": [
        {
          "output_type": "stream",
          "name": "stdout",
          "text": [
            "the even numbers are [5, 7, 21, 89, 63]\n"
          ]
        }
      ]
    },
    {
      "cell_type": "markdown",
      "source": [
        "**9. Write a Python program to Remove empty List from List?**  \n",
        "ANS - "
      ],
      "metadata": {
        "id": "zE0VkrA_ydZ8"
      }
    },
    {
      "cell_type": "code",
      "source": [
        "l = [5,8,6,7,56,21,[],89,562,56,86,1542,[ ],78,63,[]]\n",
        "def empty_list():\n",
        "  new_l = []\n",
        "  for i in l :\n",
        "    if i != [] :\n",
        "      new_l.append(i)\n",
        "  return print(\"the new list without empty lists is\" , new_l)\n",
        "\n",
        "\n",
        "empty_list()"
      ],
      "metadata": {
        "colab": {
          "base_uri": "https://localhost:8080/"
        },
        "id": "umdbcCl8yhy2",
        "outputId": "da05c6d7-ab27-4fbc-b0c2-56af9b5aab52"
      },
      "execution_count": 58,
      "outputs": [
        {
          "output_type": "stream",
          "name": "stdout",
          "text": [
            "the new list without empty lists is [5, 8, 6, 7, 56, 21, 89, 562, 56, 86, 1542, 78, 63]\n"
          ]
        }
      ]
    },
    {
      "cell_type": "markdown",
      "source": [
        "**10. Write a Python program to Cloning or Copying a list?**  \n",
        "ANS - "
      ],
      "metadata": {
        "id": "X7PnetPM0BDK"
      }
    },
    {
      "cell_type": "code",
      "source": [
        "l = ['Superman', 'Homelander', 'Black Adam' , 'Thor']\n",
        "def clone_l():\n",
        "  clone = []\n",
        "  clone.extend(l)\n",
        "  return print(\"After cloning list is\" , clone) \n",
        "\n",
        "clone_l() "
      ],
      "metadata": {
        "colab": {
          "base_uri": "https://localhost:8080/"
        },
        "id": "TViWD7a00EPa",
        "outputId": "ef697462-3d61-415e-d88c-793494c643a8"
      },
      "execution_count": 61,
      "outputs": [
        {
          "output_type": "stream",
          "name": "stdout",
          "text": [
            "After cloning list is ['Superman', 'Homelander', 'Black Adam', 'Thor']\n"
          ]
        }
      ]
    },
    {
      "cell_type": "markdown",
      "source": [
        "**11. Write a Python program to Count occurrences of an element in a list?**  \n",
        "ANS - "
      ],
      "metadata": {
        "id": "RzJUwbBs1HjJ"
      }
    },
    {
      "cell_type": "code",
      "source": [
        "def countX(lst, x):\n",
        "    count = 0\n",
        "    for ele in lst:\n",
        "        if (ele == x):\n",
        "            count = count + 1\n",
        "    return count\n",
        " \n",
        "\n",
        "lst = [8, 6, 8, 10, 8, 20, 10, 8, 8]\n",
        "x = 8\n",
        "print('{} has occurred {} times'.format(x, countX(lst, x)))"
      ],
      "metadata": {
        "colab": {
          "base_uri": "https://localhost:8080/"
        },
        "id": "TZdktWQK3Jwt",
        "outputId": "51c9bb30-66f6-4af0-a462-c80e22e23416"
      },
      "execution_count": 66,
      "outputs": [
        {
          "output_type": "stream",
          "name": "stdout",
          "text": [
            "8 has occurred 5 times\n"
          ]
        }
      ]
    }
  ]
}