{
  "nbformat": 4,
  "nbformat_minor": 0,
  "metadata": {
    "colab": {
      "name": "Assignment No.6.ipynb",
      "provenance": [],
      "collapsed_sections": []
    },
    "kernelspec": {
      "name": "python3",
      "display_name": "Python 3"
    },
    "language_info": {
      "name": "python"
    }
  },
  "cells": [
    {
      "cell_type": "markdown",
      "source": [
        "**1. Write a Python Program to Display Fibonacci Sequence Using Recursion?**  \n",
        "ANS - "
      ],
      "metadata": {
        "id": "Pr1gWTHh1ska"
      }
    },
    {
      "cell_type": "code",
      "source": [
        "def rec_fib(num):\n",
        "  if num <= 1:\n",
        "    return num \n",
        "  else :\n",
        "    return rec_fib(num-1)+rec_fib(num-2)\n"
      ],
      "metadata": {
        "id": "HGWd5KOM1xoD"
      },
      "execution_count": 22,
      "outputs": []
    },
    {
      "cell_type": "code",
      "source": [
        "num = int(input(\"enter a number : \"))\n",
        "\n",
        "\n",
        "for i in range(num):\n",
        "  print(rec_fib(i))"
      ],
      "metadata": {
        "colab": {
          "base_uri": "https://localhost:8080/"
        },
        "id": "LdjoVBd42zF0",
        "outputId": "87057f81-0946-4bcd-8bd2-ebc34492e104"
      },
      "execution_count": 23,
      "outputs": [
        {
          "output_type": "stream",
          "name": "stdout",
          "text": [
            "enter a number : 19\n",
            "0\n",
            "1\n",
            "1\n",
            "2\n",
            "3\n",
            "5\n",
            "8\n",
            "13\n",
            "21\n",
            "34\n",
            "55\n",
            "89\n",
            "144\n",
            "233\n",
            "377\n",
            "610\n",
            "987\n",
            "1597\n",
            "2584\n"
          ]
        }
      ]
    },
    {
      "cell_type": "markdown",
      "source": [
        "**2. Write a Python Program to Find Factorial of Number Using Recursion?**  \n",
        "ANS - "
      ],
      "metadata": {
        "id": "0WvvqPhz4oSG"
      }
    },
    {
      "cell_type": "code",
      "source": [
        "def rec_fact(num):\n",
        "  if num == 1 :\n",
        "    return num \n",
        "  else :\n",
        "    return num*rec_fact(num-1)"
      ],
      "metadata": {
        "id": "ibNJG5TN8TEg"
      },
      "execution_count": 27,
      "outputs": []
    },
    {
      "cell_type": "code",
      "source": [
        "num = int(input(\"Enter a Number : \"))  \n",
        "\n",
        "if num < 0 :\n",
        "  print(\"Enter a positive number\")\n",
        "elif num == 0 :\n",
        "  print(\"The factorial for 0 is 1\")\n",
        "else :\n",
        "  print(\"Factorial of {} is {}\".format(num,rec_fact(num)))"
      ],
      "metadata": {
        "colab": {
          "base_uri": "https://localhost:8080/"
        },
        "id": "4jWQV1So8lIU",
        "outputId": "64361ddb-3e6c-46d8-edf9-63ee7db30333"
      },
      "execution_count": 28,
      "outputs": [
        {
          "output_type": "stream",
          "name": "stdout",
          "text": [
            "Enter a Number : 23\n",
            "Factorial of 23 is 25852016738884976640000\n"
          ]
        }
      ]
    },
    {
      "cell_type": "markdown",
      "source": [
        "**3. Write a Python Program to calculate your Body Mass Index?**  \n",
        "ANS - "
      ],
      "metadata": {
        "id": "-SjFRzwG9e_Y"
      }
    },
    {
      "cell_type": "code",
      "source": [
        "#Taking inputs for the height and weight\n",
        "Height = float(input(\"Enter Your Height in meters : \"))\n",
        "Weight = float(input(\"Ener Your weight in Kilograms : \"))\n",
        "\n",
        "#Body Mass Index Formula\n",
        "BMI = Weight / (Height**2)\n",
        "\n",
        "print(\"Your Body Mass Index is\", BMI)"
      ],
      "metadata": {
        "colab": {
          "base_uri": "https://localhost:8080/"
        },
        "id": "n96haZ_n9hep",
        "outputId": "2edb7935-13f2-4c2e-e015-49bea14c74ba"
      },
      "execution_count": 33,
      "outputs": [
        {
          "output_type": "stream",
          "name": "stdout",
          "text": [
            "Enter Your Height in meters : 1.76\n",
            "Ener Your weight in Kilograms : 65\n",
            "Your Body Mass Index is 20.983987603305785\n"
          ]
        }
      ]
    },
    {
      "cell_type": "markdown",
      "source": [
        "**4. Write a Python Program to calculate the natural logarithm of any number?**  \n",
        "ANS - "
      ],
      "metadata": {
        "id": "eptSUS_A-4fz"
      }
    },
    {
      "cell_type": "code",
      "source": [
        "import math\n",
        "num = float(input(\"Enter a number : \"))\n",
        "\n",
        "log = math.log(num)\n",
        "\n",
        "print(\"the log of {} is {}\".format(num,log))"
      ],
      "metadata": {
        "colab": {
          "base_uri": "https://localhost:8080/"
        },
        "id": "XhVlOyGU-6ne",
        "outputId": "0a11d4b0-f786-4b33-e925-1b6b4176544a"
      },
      "execution_count": 35,
      "outputs": [
        {
          "output_type": "stream",
          "name": "stdout",
          "text": [
            "Enter a number : 55\n",
            "the log of 55.0 is 4.007333185232471\n"
          ]
        }
      ]
    },
    {
      "cell_type": "markdown",
      "source": [
        "**5.Write a Python Program for cube sum of first n natural numbers?**  \n",
        "ANS - "
      ],
      "metadata": {
        "id": "VSWXlYMn_uta"
      }
    },
    {
      "cell_type": "code",
      "source": [
        "def cube_sum(num):\n",
        "  sum = 0 \n",
        "  for i in range(1,num+1):\n",
        "    sum = sum+(i**3)\n",
        "  return sum"
      ],
      "metadata": {
        "id": "reVZuDF9_zvH"
      },
      "execution_count": 36,
      "outputs": []
    },
    {
      "cell_type": "code",
      "source": [
        "cube_sum(5)"
      ],
      "metadata": {
        "colab": {
          "base_uri": "https://localhost:8080/"
        },
        "id": "kPOHfPzNAb6I",
        "outputId": "ccba8d6e-60c0-496e-f6e0-33fcd5823a01"
      },
      "execution_count": 39,
      "outputs": [
        {
          "output_type": "execute_result",
          "data": {
            "text/plain": [
              "225"
            ]
          },
          "metadata": {},
          "execution_count": 39
        }
      ]
    }
  ]
}