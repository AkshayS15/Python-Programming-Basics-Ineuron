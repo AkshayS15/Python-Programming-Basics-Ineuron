{
  "nbformat": 4,
  "nbformat_minor": 0,
  "metadata": {
    "colab": {
      "name": "Assignment no.5 .ipynb",
      "provenance": [],
      "collapsed_sections": []
    },
    "kernelspec": {
      "name": "python3",
      "display_name": "Python 3"
    },
    "language_info": {
      "name": "python"
    }
  },
  "cells": [
    {
      "cell_type": "markdown",
      "source": [
        "**1. Write a Python Program to Find LCM?**  \n",
        "ANS - "
      ],
      "metadata": {
        "id": "4d4JkS9l9eeF"
      }
    },
    {
      "cell_type": "code",
      "source": [
        "#Taking number input \n",
        "\n",
        "num1 = int(input(\"Enter First number : \"))\n",
        "num2 = int(input(\"Enter second number : \"))\n",
        "\n",
        "if num1 > num2 :\n",
        "  greater = num1 \n",
        "else :\n",
        "  greater = num2\n",
        "\n",
        "while True :\n",
        "  if greater % num1 == 0 and greater % num2 == 0 :\n",
        "    lcm = greater\n",
        "    break \n",
        "  greater += 1\n",
        "\n",
        "print(\"LCM of {} and {} is {}\". format(num1 , num2, lcm))"
      ],
      "metadata": {
        "colab": {
          "base_uri": "https://localhost:8080/"
        },
        "id": "BDflEpD--A2V",
        "outputId": "8268c98e-eada-4e12-ca32-6858f59ad907"
      },
      "execution_count": 10,
      "outputs": [
        {
          "output_type": "stream",
          "name": "stdout",
          "text": [
            "Enter First number : 8\n",
            "Enter second number : 45\n",
            "LCM of 8 and 45 is 360\n"
          ]
        }
      ]
    },
    {
      "cell_type": "markdown",
      "source": [
        "**2. Write a Python Program to Find HCF?**  \n",
        "ANS - "
      ],
      "metadata": {
        "id": "nY4Ojoka__n0"
      }
    },
    {
      "cell_type": "code",
      "source": [
        "#Taking input of numbers\n",
        "\n",
        "num1 = int(input(\"Enter First number : \"))\n",
        "num2 = int(input(\"Enter second number : \"))\n",
        "\n",
        "if num1 < num2  :\n",
        "  lesser = num1 \n",
        "else : \n",
        "  lesser = num2\n",
        "\n",
        "hcf = 0 \n",
        "for i in range(1,lesser+1):\n",
        "  if num1 % i == 0 and num2 % i == 0 :\n",
        "    hcf = i\n",
        "\n",
        "print(\"The HCF for {} and {} is {}\".format(num1,num2,hcf))"
      ],
      "metadata": {
        "colab": {
          "base_uri": "https://localhost:8080/"
        },
        "id": "Zvar9CZxAFXf",
        "outputId": "1600368e-a48e-4f4a-ced7-410a3b101f94"
      },
      "execution_count": 11,
      "outputs": [
        {
          "output_type": "stream",
          "name": "stdout",
          "text": [
            "Enter First number : 8\n",
            "Enter second number : 69\n",
            "The HCF for 8 and 69 is 1\n"
          ]
        }
      ]
    },
    {
      "cell_type": "markdown",
      "source": [
        "**3. Write a Python Program to Convert Decimal to Binary, Octal and Hexadecimal?**  \n",
        "ANS - "
      ],
      "metadata": {
        "id": "vtI0vA91Bs99"
      }
    },
    {
      "cell_type": "code",
      "source": [
        "#Taking input of numbers\n",
        "\n",
        "num = int(input(\"Enter a number : \"))\n",
        "\n",
        "binary = bin(num)\n",
        "Octal = oct(num)\n",
        "Hexadecimal = hex(num)\n",
        "\n",
        "print(\"Binary is \" , binary)\n",
        "print(\"Octal form is \", Octal)\n",
        "print(\"Hexadecimal form is\" , Hexadecimal)"
      ],
      "metadata": {
        "colab": {
          "base_uri": "https://localhost:8080/"
        },
        "id": "g6PgvOysBxS4",
        "outputId": "9c2f8b54-9b21-4431-9f1a-d9f95111796d"
      },
      "execution_count": 9,
      "outputs": [
        {
          "output_type": "stream",
          "name": "stdout",
          "text": [
            "Enter a number : 52\n",
            "Binary is  0b110100\n",
            "Octal form is  0o64\n",
            "Hexadecimal form is 0x34\n"
          ]
        }
      ]
    },
    {
      "cell_type": "markdown",
      "source": [
        "**4.Write a Python Program To Find ASCII value of a character?**  \n",
        "ANS - "
      ],
      "metadata": {
        "id": "ZT7iUanfDD8E"
      }
    },
    {
      "cell_type": "code",
      "source": [
        "a = 'g'\n",
        "print(\"The ASCII value of '\" + a + \"' is\", ord(a))"
      ],
      "metadata": {
        "colab": {
          "base_uri": "https://localhost:8080/"
        },
        "id": "LeDhKhwoDjbk",
        "outputId": "e92502bf-7d57-4a88-f753-eb46aadb69c9"
      },
      "execution_count": 13,
      "outputs": [
        {
          "output_type": "stream",
          "name": "stdout",
          "text": [
            "The ASCII value of 'g' is 103\n"
          ]
        }
      ]
    },
    {
      "cell_type": "markdown",
      "source": [
        "**5.Write a Python Program to Make a Simple Calculator with 4 basic mathematical operations?**  \n",
        "ANS - "
      ],
      "metadata": {
        "id": "sBDaR1LoGRSa"
      }
    },
    {
      "cell_type": "code",
      "source": [
        "#Taking input for numbers and operation to perform \n",
        "\n",
        "num1 = float(input(\"Enter first number : \"))\n",
        "num2 = float(input(\"Enter second number : \"))\n",
        "operation = input(\"Choose between following operation \\n 1.Add \\n 2.Subtract \\n 3.Multiply \\n 4.Divide \\n : \")\n",
        "\n",
        "if operation == \"Add\":\n",
        "  a = num1 + num2\n",
        "  print(a)\n",
        "\n",
        "elif operation == \"Subtract\":\n",
        "  b = num1 - num2\n",
        "  print(b)\n",
        "\n",
        "elif operation == \"Multiply\" :\n",
        "  c = num1 * num2 \n",
        "  print(c)\n",
        "\n",
        "else:\n",
        "  operation == \"Divide\"\n",
        "  d = num1/num2 \n",
        "  print(d)"
      ],
      "metadata": {
        "colab": {
          "base_uri": "https://localhost:8080/"
        },
        "id": "cfRXrt5LI6IS",
        "outputId": "86a9a0b2-4a68-43bb-8806-ba691914e461"
      },
      "execution_count": 28,
      "outputs": [
        {
          "output_type": "stream",
          "name": "stdout",
          "text": [
            "Enter first number : 4512\n",
            "Enter second number : 7893\n",
            "Choose between following operation \n",
            " 1.Add \n",
            " 2.Subtract \n",
            " 3.Multiply \n",
            " 4.Divide \n",
            " : Add\n",
            "12405.0\n"
          ]
        }
      ]
    },
    {
      "cell_type": "code",
      "source": [
        ""
      ],
      "metadata": {
        "id": "wLyI6NoNJ4v6"
      },
      "execution_count": 25,
      "outputs": []
    }
  ]
}