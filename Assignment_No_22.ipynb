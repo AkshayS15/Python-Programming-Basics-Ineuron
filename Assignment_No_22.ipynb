{
  "nbformat": 4,
  "nbformat_minor": 0,
  "metadata": {
    "colab": {
      "provenance": []
    },
    "kernelspec": {
      "name": "python3",
      "display_name": "Python 3"
    },
    "language_info": {
      "name": "python"
    }
  },
  "cells": [
    {
      "cell_type": "markdown",
      "source": [
        "Question1  \n",
        "Create a function that takes three parameters where:  \n",
        " x is the start of the range (inclusive).  \n",
        " y is the end of the range (inclusive).  \n",
        " n is the divisor to be checked against.  \n",
        "Return an ordered list with numbers in the range that are divisible by the third parameter n.  \n",
        "Return an empty list if there are no numbers that are divisible by n.  \n",
        "Examples  \n",
        "list_operation(1, 10, 3) ➞ [3, 6, 9]  \n",
        "list_operation(7, 9, 2) ➞ [8]  \n",
        "list_operation(15, 20, 7) ➞ []  "
      ],
      "metadata": {
        "id": "gFYigl7gmQbD"
      }
    },
    {
      "cell_type": "code",
      "execution_count": 4,
      "metadata": {
        "colab": {
          "base_uri": "https://localhost:8080/"
        },
        "id": "_XKNl1Bjlpuj",
        "outputId": "3884b471-be3e-45a3-fa62-3461f61d5f88"
      },
      "outputs": [
        {
          "output_type": "execute_result",
          "data": {
            "text/plain": [
              "[3, 6, 9]"
            ]
          },
          "metadata": {},
          "execution_count": 4
        }
      ],
      "source": [
        "def list_operation(start,end,divisor):\n",
        "  l = []\n",
        "  for i in range(start,end):\n",
        "    if i%divisor == 0 :\n",
        "      l.append(i)\n",
        "  return l \n",
        "\n",
        "\n",
        "list_operation(1, 10, 3)"
      ]
    },
    {
      "cell_type": "markdown",
      "source": [
        "Question2  \n",
        "Create a function that takes in two lists and returns True if the second list follows the first list  \n",
        "by one element, and False otherwise. In other words, determine if the second list is the first  \n",
        "list shifted to the right by 1.  \n",
        "Examples  \n",
        "simon_says([1, 2], [5, 1]) ➞ True  \n",
        "simon_says([1, 2], [5, 5]) ➞ False  \n",
        "simon_says([1, 2, 3, 4, 5], [0, 1, 2, 3, 4]) ➞ True  \n",
        "simon_says([1, 2, 3, 4, 5], [5, 5, 1, 2, 3]) ➞ False  \n",
        "Notes  \n",
        " Both input lists will be of the same length, and will have a minimum length of 2.  \n",
        " The values of the 0-indexed element in the second list and the n-1th indexed element  \n",
        "in the first list do not matter.  "
      ],
      "metadata": {
        "id": "wne-kXb3nDAr"
      }
    },
    {
      "cell_type": "code",
      "source": [
        "def simon_says(in_list_1,in_list_2):\n",
        "    if len(in_list_1) == len(in_list_1) and len(in_list_1) >=2 and len(in_list_1) >=2:\n",
        "        if(in_list_1[:-1] == in_list_2[1:]):\n",
        "            print(f'{in_list_1,in_list_2} ➞ {True}')\n",
        "        else:\n",
        "            print(f'{in_list_1,in_list_2} ➞ {False}')\n",
        "            \n",
        "simon_says([1, 2], [5, 1])\n",
        "simon_says([1, 2], [5, 5])\n",
        "simon_says([1, 2, 3, 4, 5], [0, 1, 2, 3, 4])\n",
        "simon_says([1, 2, 3, 4, 5], [5, 5, 1, 2, 3])"
      ],
      "metadata": {
        "colab": {
          "base_uri": "https://localhost:8080/"
        },
        "id": "87V7sVQim6Q_",
        "outputId": "303a9681-60e0-4089-dc26-509e8c582a96"
      },
      "execution_count": 5,
      "outputs": [
        {
          "output_type": "stream",
          "name": "stdout",
          "text": [
            "([1, 2], [5, 1]) ➞ True\n",
            "([1, 2], [5, 5]) ➞ False\n",
            "([1, 2, 3, 4, 5], [0, 1, 2, 3, 4]) ➞ True\n",
            "([1, 2, 3, 4, 5], [5, 5, 1, 2, 3]) ➞ False\n"
          ]
        }
      ]
    },
    {
      "cell_type": "markdown",
      "source": [
        "Question3  \n",
        "A group of friends have decided to start a secret society. The name will be the first letter of   \n",
        "each of their names, sorted in alphabetical order.  \n",
        "Create a function that takes in a list of names and returns the name of the secret society.  \n",
        "\n",
        "Examples  \n",
        "society_name([&quot;Adam&quot;, &quot;Sarah&quot;, &quot;Malcolm&quot;]) ➞ &quot;AMS&quot;  \n",
        "society_name([&quot;Harry&quot;, &quot;Newt&quot;, &quot;Luna&quot;, &quot;Cho&quot;]) ➞ &quot;CHLN&quot;  \n",
        "society_name([&quot;Phoebe&quot;, &quot;Chandler&quot;, &quot;Rachel&quot;, &quot;Ross&quot;, &quot;Monica&quot;, &quot;Joey&quot;])  "
      ],
      "metadata": {
        "id": "4o8v-egVn98s"
      }
    },
    {
      "cell_type": "code",
      "source": [
        "def society_name(list1):\n",
        "  l = []\n",
        "  for name in list1:\n",
        "    l.append(name[0])\n",
        "  res = ''.join(sorted(l))\n",
        "  return res\n",
        "\n",
        "society_name([\"Phoebe\", \"Chandler\", \"Rachel\", \"Ross\", \"Monica\", \"Joey\"])"
      ],
      "metadata": {
        "colab": {
          "base_uri": "https://localhost:8080/",
          "height": 36
        },
        "id": "TZxdUNEyoRzw",
        "outputId": "c078bd16-4398-44f5-e626-8b0f86dfcfc4"
      },
      "execution_count": 17,
      "outputs": [
        {
          "output_type": "execute_result",
          "data": {
            "text/plain": [
              "'CJMPRR'"
            ],
            "application/vnd.google.colaboratory.intrinsic+json": {
              "type": "string"
            }
          },
          "metadata": {},
          "execution_count": 17
        }
      ]
    },
    {
      "cell_type": "markdown",
      "source": [
        "Question4  \n",
        "An isogram is a word that has no duplicate letters. Create a function that takes a string and  \n",
        "returns either True or False depending on whether or not it&#39;s an &quot;isogram&quot;.  \n",
        "Examples  \n",
        "is_isogram(&quot;Algorism&quot;) ➞ True  \n",
        "is_isogram(&quot;PasSword&quot;) ➞ False  \n",
        "##### Not case sensitive.  \n",
        "is_isogram(&quot;Consecutive&quot;) ➞ False  \n",
        "Notes  \n",
        " Ignore letter case (should not be case sensitive).  \n",
        " All test cases contain valid one word strings.  "
      ],
      "metadata": {
        "id": "WNrvlszmpl5C"
      }
    },
    {
      "cell_type": "code",
      "source": [
        "def is_isogram(str1):\n",
        "  for ch in str1 :\n",
        "    if str1.lower().count(i) == 1 :\n",
        "      return True\n",
        "  else :\n",
        "    return False\n",
        "  \n",
        "is_isogram(\"Algorism\")"
      ],
      "metadata": {
        "colab": {
          "base_uri": "https://localhost:8080/"
        },
        "id": "tUsYm0tdqMFj",
        "outputId": "bb374247-bf8e-41dc-d7f9-1b0ba3980c69"
      },
      "execution_count": 25,
      "outputs": [
        {
          "output_type": "execute_result",
          "data": {
            "text/plain": [
              "True"
            ]
          },
          "metadata": {},
          "execution_count": 25
        }
      ]
    },
    {
      "cell_type": "markdown",
      "source": [
        "Question5  \n",
        "Create a function that takes a string and returns True or False, depending on whether the  \n",
        "characters are in order or not.  \n",
        "Examples  \n",
        "is_in_order(&quot;abc&quot;) ➞ True  \n",
        "is_in_order(&quot;edabit&quot;) ➞ False  \n",
        "is_in_order(&quot;123&quot;) ➞ True  \n",
        "is_in_order(&quot;xyzz&quot;) ➞ True  \n",
        "Notes  \n",
        "You don&#39;t have to handle empty strings.  "
      ],
      "metadata": {
        "id": "ENvfr6aDq0Cb"
      }
    },
    {
      "cell_type": "code",
      "source": [
        "def is_in_order(str1):\n",
        "  if str1 == ''.join(sorted(str1)):\n",
        "    return True\n",
        "  else:\n",
        "    return False\n",
        "\n",
        "is_in_order(\"xyzz\")"
      ],
      "metadata": {
        "colab": {
          "base_uri": "https://localhost:8080/"
        },
        "id": "Azglxt_fq4Jh",
        "outputId": "80445d4f-bdad-4390-8bc2-3ee2dafd57ae"
      },
      "execution_count": 30,
      "outputs": [
        {
          "output_type": "execute_result",
          "data": {
            "text/plain": [
              "True"
            ]
          },
          "metadata": {},
          "execution_count": 30
        }
      ]
    }
  ]
}