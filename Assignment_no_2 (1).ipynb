{
  "nbformat": 4,
  "nbformat_minor": 0,
  "metadata": {
    "colab": {
      "name": "Assignment no. 2.ipynb",
      "provenance": [],
      "collapsed_sections": []
    },
    "kernelspec": {
      "name": "python3",
      "display_name": "Python 3"
    },
    "language_info": {
      "name": "python"
    }
  },
  "cells": [
    {
      "cell_type": "markdown",
      "source": [
        "**1.Write a Python program to convert kilometers to miles?**  \n",
        "ANS - "
      ],
      "metadata": {
        "id": "nGZlzX3bAm60"
      }
    },
    {
      "cell_type": "code",
      "source": [
        "#Input of distance in KMs \n",
        "Kilometers = float(input(\"Enter distance in KM  \"))\n",
        "\n",
        "#Rate of conversion\n",
        "conv_rate = 0.62137\n",
        "\n",
        "#Calcution for Miles\n",
        "Miles = Kilometers * conv_rate \n",
        "\n",
        "print(\"The distance in miles is\" , Miles)"
      ],
      "metadata": {
        "colab": {
          "base_uri": "https://localhost:8080/"
        },
        "id": "7TXQSBLmApv7",
        "outputId": "89547718-10fd-47c0-8f0f-fd41c628f1d1"
      },
      "execution_count": 2,
      "outputs": [
        {
          "output_type": "stream",
          "name": "stdout",
          "text": [
            "Enter distance in KM  1000.569\n",
            "The distance in miles is 621.72355953\n"
          ]
        }
      ]
    },
    {
      "cell_type": "markdown",
      "source": [
        "**2.Write a Python program to convert Celsius to Fahrenheit?**  \n",
        "ANS - "
      ],
      "metadata": {
        "id": "FC4vtHKqBw7y"
      }
    },
    {
      "cell_type": "code",
      "source": [
        "# Fahrenheit = (Celcius - 32) * .5556\n",
        "\n",
        "#Input of Temp in Celcius\n",
        "Celcius = float(input(\"Enter Temp value in Celcius \"))\n",
        "\n",
        "#Conversion of Celcius to Fahrenheit \n",
        "\n",
        "Fahrenheit = (Celcius - 32) * .5556\n",
        "print(\"The temp in Fahrenheit is \" , Fahrenheit)\n"
      ],
      "metadata": {
        "colab": {
          "base_uri": "https://localhost:8080/"
        },
        "id": "HOpi3JBWB4N7",
        "outputId": "e4f1a3da-a281-483e-e554-1d3073e90a43"
      },
      "execution_count": 3,
      "outputs": [
        {
          "output_type": "stream",
          "name": "stdout",
          "text": [
            "Enter Temp value in Celcius 95.63\n",
            "The temp in Fahrenheit is  35.352827999999995\n"
          ]
        }
      ]
    },
    {
      "cell_type": "markdown",
      "source": [
        "**3.Write a Python program to display calendar?**  \n",
        "ANS - "
      ],
      "metadata": {
        "id": "997OU9hQDXVk"
      }
    },
    {
      "cell_type": "code",
      "source": [
        "#Import Calendar module \n",
        "import calendar \n",
        "\n",
        "#Taking input of Year and Month\n",
        "\n",
        "YY = int(input(\"Enter Year -\"))\n",
        "MM = int(input(\"Enter month from 1 to 12 - \"))\n",
        "\n",
        "print(calendar.month(YY,MM))"
      ],
      "metadata": {
        "colab": {
          "base_uri": "https://localhost:8080/"
        },
        "id": "hXl74jT5DbvH",
        "outputId": "646a5f54-b718-42ed-8985-841eaba1df5b"
      },
      "execution_count": 7,
      "outputs": [
        {
          "output_type": "stream",
          "name": "stdout",
          "text": [
            "Enter Year -1999\n",
            "Enter month from 1 to 12 - 4\n",
            "     April 1999\n",
            "Mo Tu We Th Fr Sa Su\n",
            "          1  2  3  4\n",
            " 5  6  7  8  9 10 11\n",
            "12 13 14 15 16 17 18\n",
            "19 20 21 22 23 24 25\n",
            "26 27 28 29 30\n",
            "\n"
          ]
        }
      ]
    },
    {
      "cell_type": "markdown",
      "source": [
        "**4.Write a Python program to solve quadractic equation?**  \n",
        "ANS - "
      ],
      "metadata": {
        "id": "arYtj49nEXGN"
      }
    },
    {
      "cell_type": "code",
      "source": [
        "#Import cmath module\n",
        "import cmath\n",
        "\n",
        "#Taking input for numbers\n",
        "\n",
        "a = int(input(\"Enter value for a = \"))\n",
        "b = int(input(\"Enter value for b = \"))\n",
        "c = int(input(\"Enter value for c = \"))\n",
        "\n",
        "#Dicriminant value \n",
        "d = (b**2) - (4*a*c)\n",
        "\n",
        "#Finding solutions \n",
        "Soln1 = (-b-cmath.sqrt(d))/(2*a)\n",
        "Soln2 = (-b+cmath.sqrt(d))/(2*a)\n",
        "\n",
        "print('The solution are {0} and {1}'.format(Soln1,Soln2))"
      ],
      "metadata": {
        "colab": {
          "base_uri": "https://localhost:8080/"
        },
        "id": "fjV4r225EdfF",
        "outputId": "e1251a51-b5ac-46e8-eb02-a0c8b8fecb50"
      },
      "execution_count": 22,
      "outputs": [
        {
          "output_type": "stream",
          "name": "stdout",
          "text": [
            "Enter value for a = 1\n",
            "Enter value for b = 4\n",
            "Enter value for c = 1\n",
            "The solution are (-3.732050807568877+0j) and (-0.2679491924311228+0j)\n"
          ]
        }
      ]
    },
    {
      "cell_type": "markdown",
      "source": [
        "**5. Write a Python program to swap two variables without temp variable?**  \n",
        "ANS - "
      ],
      "metadata": {
        "id": "cw2l6PgvFCbM"
      }
    },
    {
      "cell_type": "code",
      "source": [
        "#Taking input for numbers\n",
        "\n",
        "p = int(input(\"Enter value for p - \"))\n",
        "q = int(input(\"Enter value for q - \"))\n",
        "\n",
        "p,q = q,p \n",
        "\n",
        "print(\"p =\" , p)\n",
        "print(\"q =\" , q)"
      ],
      "metadata": {
        "colab": {
          "base_uri": "https://localhost:8080/"
        },
        "id": "9DorlNAuFPL_",
        "outputId": "052fdc9e-fb07-41f5-dd2e-ba652c944d13"
      },
      "execution_count": 11,
      "outputs": [
        {
          "output_type": "stream",
          "name": "stdout",
          "text": [
            "Enter value for p - 89\n",
            "Enter value for q - 78\n",
            "p = 78\n",
            "q = 89\n"
          ]
        }
      ]
    }
  ]
}