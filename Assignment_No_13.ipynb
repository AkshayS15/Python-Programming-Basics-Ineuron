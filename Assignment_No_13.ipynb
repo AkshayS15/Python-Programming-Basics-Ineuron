{
  "nbformat": 4,
  "nbformat_minor": 0,
  "metadata": {
    "colab": {
      "provenance": []
    },
    "kernelspec": {
      "name": "python3",
      "display_name": "Python 3"
    },
    "language_info": {
      "name": "python"
    }
  },
  "cells": [
    {
      "cell_type": "markdown",
      "source": [
        "1. Write a program that calculates and prints the value according to the given formula:  \n",
        "Q = Square root of [(2 C D)/H]  \n",
        "Following are the fixed values of C and H:  \n",
        "C is 50. H is 30.  \n",
        "D is the variable whose values should be input to your program in a comma-separated sequence.  \n",
        "Example  \n",
        "Let us assume the following comma separated input sequence is given to the program:  \n",
        "100,150,180  \n",
        "The output of the program should be:  \n",
        "18,22,24  "
      ],
      "metadata": {
        "id": "0DWpU6MfZJ85"
      }
    },
    {
      "cell_type": "code",
      "execution_count": 7,
      "metadata": {
        "colab": {
          "base_uri": "https://localhost:8080/"
        },
        "id": "2nHapqoaYZL5",
        "outputId": "39d52ab0-1d71-477a-ce42-5488324be27b"
      },
      "outputs": [
        {
          "output_type": "stream",
          "name": "stdout",
          "text": [
            "Enter D values in coma separated form : 100,150,180\n",
            "18,22,24\n"
          ]
        }
      ],
      "source": [
        "import math \n",
        "numbers = input('Enter D values in coma separated form : ')\n",
        "num = numbers.split(\",\")\n",
        "\n",
        "res_list = []\n",
        "for D in num :\n",
        "  Q = round(math.sqrt((2*50*int(D))/30))\n",
        "  res_list.append(str(Q))\n",
        "\n",
        "print(','.join(res_list))"
      ]
    },
    {
      "cell_type": "markdown",
      "source": [
        "2. Write a program which takes 2 digits, X,Y as input and generates a 2-dimensional array.  \n",
        "The element value in the i-th row and j-th column of the array should be i*j.  \n",
        "Note: i=0,1.., X-1; j=0,1,¡Y-1.  \n",
        "Example  \n",
        "Suppose the following inputs are given to the program:  \n",
        "3,5  \n",
        "Then, the output of the program should be:  \n",
        "[[0, 0, 0, 0, 0], [0, 1, 2, 3, 4], [0, 2, 4, 6, 8]]"
      ],
      "metadata": {
        "id": "41qrZNjJasRx"
      }
    },
    {
      "cell_type": "code",
      "source": [
        "x=int(input('Enter the value of X: '))\n",
        "y=int(input('Enter the value of Y: '))\n",
        "\n",
        "l1=[]\n",
        "for i in range(x):\n",
        "    l2=[]\n",
        "    for j in range(y):\n",
        "        l2.append(i*j)\n",
        "    l1.append(l2)\n",
        "l1"
      ],
      "metadata": {
        "colab": {
          "base_uri": "https://localhost:8080/"
        },
        "id": "kfU2JhKcaHPu",
        "outputId": "00bc8497-6c55-4aaf-f265-0bee6bafc438"
      },
      "execution_count": 8,
      "outputs": [
        {
          "name": "stdout",
          "output_type": "stream",
          "text": [
            "Enter the value of X: 3\n",
            "Enter the value of Y: 5\n"
          ]
        },
        {
          "output_type": "execute_result",
          "data": {
            "text/plain": [
              "[[0, 0, 0, 0, 0], [0, 1, 2, 3, 4], [0, 2, 4, 6, 8]]"
            ]
          },
          "metadata": {},
          "execution_count": 8
        }
      ]
    },
    {
      "cell_type": "markdown",
      "source": [
        "3. Write a program that accepts a comma separated sequence of words as input and prints the words in a comma-separated sequence after sorting them alphabetically.  \n",
        "Suppose the following input is supplied to the program:  \n",
        "without,hello,bag,world  \n",
        "Then, the output should be:  \n",
        "bag,hello,without,world\n"
      ],
      "metadata": {
        "id": "fmOecKBzbBas"
      }
    },
    {
      "cell_type": "code",
      "source": [
        "items=[x for x in input('Enter comma seperated words ').split(',')]\n",
        "items.sort()    \n",
        "print(','.join(items))"
      ],
      "metadata": {
        "colab": {
          "base_uri": "https://localhost:8080/"
        },
        "id": "BIGkzk3Wa82L",
        "outputId": "f902716e-bd6d-4a1e-d584-f8493c971aff"
      },
      "execution_count": 9,
      "outputs": [
        {
          "output_type": "stream",
          "name": "stdout",
          "text": [
            "Enter comma seperated words without,hello,bag,world\n",
            "bag,hello,without,world\n"
          ]
        }
      ]
    },
    {
      "cell_type": "markdown",
      "source": [
        "4. Write a program that accepts a sequence of whitespace separated words as input and prints the words after removing all duplicate words and sorting them alphanumerically.  \n",
        "Suppose the following input is supplied to the program:  \n",
        "hello world and practice makes perfect and hello world again  \n",
        "Then, the output should be:  \n",
        "again and hello makes perfect practice world"
      ],
      "metadata": {
        "id": "NRLTEHtdbRhm"
      }
    },
    {
      "cell_type": "code",
      "source": [
        "s=input('Enter the sequence of white separated words: ').split(' ')\n",
        "print(' '.join(sorted(set(s))))"
      ],
      "metadata": {
        "colab": {
          "base_uri": "https://localhost:8080/"
        },
        "id": "ydAZ1mYVbKd9",
        "outputId": "33031a2c-5117-4fc4-ccb1-0eb8de345c4b"
      },
      "execution_count": 10,
      "outputs": [
        {
          "output_type": "stream",
          "name": "stdout",
          "text": [
            "Enter the sequence of white separated words: hello world and practice makes perfect and hello world again\n",
            "again and hello makes perfect practice world\n"
          ]
        }
      ]
    },
    {
      "cell_type": "markdown",
      "source": [
        "5. Write a program that accepts a sentence and calculate the number od letters and digits.  \n",
        "suppose the Following input is supplied to the program:  \n",
        "hello world! 123  \n",
        "Then,the output should be:  \n",
        "LETTERS 10  \n",
        "DIGITS 3  "
      ],
      "metadata": {
        "id": "jFJ5ga91buh7"
      }
    },
    {
      "cell_type": "code",
      "source": [
        "string = input(\"Enter a String : \")\n",
        "letters = digits = 0\n",
        "for char in string :\n",
        "  if char.isdigit() :\n",
        "    digits+=1\n",
        "  elif char.isalpha():\n",
        "    letters+=1\n",
        "  else :\n",
        "    pass\n",
        "\n",
        "print('The numbers of letters and digits are {} and {}'.format(letters,digits))"
      ],
      "metadata": {
        "colab": {
          "base_uri": "https://localhost:8080/"
        },
        "id": "PNP2gya3bp_Z",
        "outputId": "71d32a4f-a44b-46d5-b0ae-5ba261c2e7ab"
      },
      "execution_count": 12,
      "outputs": [
        {
          "output_type": "stream",
          "name": "stdout",
          "text": [
            "Enter a String : hello world! 123\n",
            "The numbers of letters and digits are 10 and 3\n"
          ]
        }
      ]
    },
    {
      "cell_type": "markdown",
      "source": [
        "6. A website requires the users to input username and password to register. Write a program to check the validity of password input by users.\n",
        "Following are the criteria for checking the password:\n",
        "1. At least 1 letter between [a-z]\n",
        "2. At least 1 number between [0-9]\n",
        "1. At least 1 letter between [A-Z]\n",
        "3. At least 1 character from [$#@]\n",
        "4. Minimum length of transaction password: 6\n",
        "5. Maximum length of transaction password: 12\n",
        "Your program should accept a sequence of comma separated passwords and will check them according to the above criteria. Passwords that match the criteria are to be printed, each separated by a comma.  \n",
        "Example  \n",
        "If the following passwords are given as input to the program:\n",
        "ABd1234@1,a F1#,2w3E*,2We3345  \n",
        "Then, the output of the program should be:  \n",
        "ABd1234@1"
      ],
      "metadata": {
        "id": "_Cd5fPXTcuCh"
      }
    },
    {
      "cell_type": "code",
      "source": [
        "import re\n",
        "\n",
        "pswd = input(\"Type the passwords in comma separated form: \").split(\",\")\n",
        "\n",
        "valid = []\n",
        "for i in pswd:\n",
        "    \n",
        "    if len(i) < 6 or len(i) > 12:\n",
        "        continue\n",
        "\n",
        "    elif not re.search(\"([a-z])+\", i):\n",
        "        continue\n",
        "\n",
        "    elif not re.search(\"([A-Z])+\", i):\n",
        "        continue\n",
        "\n",
        "    elif not re.search(\"([0-9])+\", i):\n",
        "        continue\n",
        "\n",
        "    elif not re.search(\"([!@$%^&])+\", i):\n",
        "        continue\n",
        "\n",
        "    else:\n",
        "        valid.append(i)\n",
        "\n",
        "    print((\" \").join(valid))\n",
        "    break\n",
        "\n",
        "else:\n",
        "    print('Invalid password')"
      ],
      "metadata": {
        "colab": {
          "base_uri": "https://localhost:8080/"
        },
        "id": "47hYPoKkcbum",
        "outputId": "d85cf755-41c7-4aa0-af5c-64907d621897"
      },
      "execution_count": 13,
      "outputs": [
        {
          "output_type": "stream",
          "name": "stdout",
          "text": [
            "Type the passwords in comma separated form: ABd1234@1,a F1#,2w3E*,2We3345 ABd1234@1\n",
            "ABd1234@1\n"
          ]
        }
      ]
    },
    {
      "cell_type": "code",
      "source": [],
      "metadata": {
        "id": "kSJYZ2fnc2xS"
      },
      "execution_count": null,
      "outputs": []
    }
  ]
}