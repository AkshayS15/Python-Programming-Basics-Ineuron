{
  "nbformat": 4,
  "nbformat_minor": 0,
  "metadata": {
    "colab": {
      "provenance": []
    },
    "kernelspec": {
      "name": "python3",
      "display_name": "Python 3"
    },
    "language_info": {
      "name": "python"
    }
  },
  "cells": [
    {
      "cell_type": "markdown",
      "source": [
        "Question 1  \n",
        "Create a function that takes a number as an argument and returns True or False depending  \n",
        "on whether the number is symmetrical or not. A number is symmetrical when it is the same as  \n",
        "its reverse.  \n",
        "Examples  \n",
        "is_symmetrical(7227) ➞ True  \n",
        "is_symmetrical(12567) ➞ False  \n",
        "is_symmetrical(44444444) ➞ True  \n",
        "is_symmetrical(9939) ➞ False  \n",
        "is_symmetrical(1112111) ➞ True  "
      ],
      "metadata": {
        "id": "n9m2GBLlr5r6"
      }
    },
    {
      "cell_type": "code",
      "source": [
        "def is_symmetrical(num):\n",
        "  if str(num) == str(num)[::-1]:\n",
        "    return True\n",
        "  else :\n",
        "    return False \n",
        "\n",
        "is_symmetrical(12567)"
      ],
      "metadata": {
        "colab": {
          "base_uri": "https://localhost:8080/"
        },
        "id": "IWYDAaBJsLK_",
        "outputId": "23f4cbfd-0056-4f99-d77e-ad48c1c42bf7"
      },
      "execution_count": 4,
      "outputs": [
        {
          "output_type": "execute_result",
          "data": {
            "text/plain": [
              "False"
            ]
          },
          "metadata": {},
          "execution_count": 4
        }
      ]
    },
    {
      "cell_type": "markdown",
      "source": [
        "Question 2  \n",
        "Given a string of numbers separated by a comma and space, return the product of the  \n",
        "numbers.  \n",
        "Examples  \n",
        "multiply_nums(&quot;2, 3&quot;) ➞ 6  \n",
        "multiply_nums(&quot;1, 2, 3, 4&quot;) ➞ 24  \n",
        "multiply_nums(&quot;54, 75, 453, 0&quot;) ➞ 0  \n",
        "multiply_nums(&quot;10, -2&quot;) ➞ -20  "
      ],
      "metadata": {
        "id": "i4kVCwMHsd1p"
      }
    },
    {
      "cell_type": "code",
      "source": [
        "str1 = '2, 3'\n",
        "str1 = str1.replace(' ','').split(',')\n",
        "str1\n",
        "prod = 1\n",
        "for i in str1 :\n",
        "  prod*=int(i)\n",
        "prod"
      ],
      "metadata": {
        "colab": {
          "base_uri": "https://localhost:8080/"
        },
        "id": "KJN4zx59siCx",
        "outputId": "b3b69824-5413-4539-e94e-81dea2f7156e"
      },
      "execution_count": 3,
      "outputs": [
        {
          "output_type": "execute_result",
          "data": {
            "text/plain": [
              "6"
            ]
          },
          "metadata": {},
          "execution_count": 3
        }
      ]
    },
    {
      "cell_type": "code",
      "source": [
        "def multiply_nums(str1):\n",
        "  l = str1.replace(' ','').split(',')\n",
        "  prod = 1\n",
        "  for i in l :\n",
        "    prod*=int(i)\n",
        "  return prod \n",
        "\n",
        "multiply_nums(\"10, -2\")"
      ],
      "metadata": {
        "colab": {
          "base_uri": "https://localhost:8080/"
        },
        "id": "4Jsa0bxX0HAo",
        "outputId": "3b44050c-dfbd-4932-e668-575ef946b948"
      },
      "execution_count": 4,
      "outputs": [
        {
          "output_type": "execute_result",
          "data": {
            "text/plain": [
              "-20"
            ]
          },
          "metadata": {},
          "execution_count": 4
        }
      ]
    },
    {
      "cell_type": "markdown",
      "source": [
        "Question 3  \n",
        "Create a function that squares every digit of a number.  \n",
        "Examples  \n",
        "square_digits(9119) ➞ 811181  \n",
        "square_digits(2483) ➞ 416649  \n",
        "square_digits(3212) ➞ 9414  \n",
        "Notes  \n",
        "The function receives an integer and must return an integer.  "
      ],
      "metadata": {
        "id": "9ulcioTa0xub"
      }
    },
    {
      "cell_type": "code",
      "source": [
        "def square_digits(num):\n",
        "  l =[]\n",
        "  for i in str(num):\n",
        "    l.append(str(int(i)**2))\n",
        "  res = ''.join(l)\n",
        "  return res\n",
        "\n",
        "square_digits(2483)"
      ],
      "metadata": {
        "colab": {
          "base_uri": "https://localhost:8080/",
          "height": 36
        },
        "id": "s90ZCJbu1VCS",
        "outputId": "71d46b93-727a-4bac-eac4-efff47144b7a"
      },
      "execution_count": 20,
      "outputs": [
        {
          "output_type": "execute_result",
          "data": {
            "text/plain": [
              "'416649'"
            ],
            "application/vnd.google.colaboratory.intrinsic+json": {
              "type": "string"
            }
          },
          "metadata": {},
          "execution_count": 20
        }
      ]
    },
    {
      "cell_type": "markdown",
      "source": [
        "Question 4  \n",
        "Create a function that sorts a list and removes all duplicate items from it.  \n",
        "Examples  \n",
        "setify([1, 3, 3, 5, 5]) ➞ [1, 3, 5]  \n",
        "setify([4, 4, 4, 4]) ➞ [4]  \n",
        "setify([5, 7, 8, 9, 10, 15]) ➞ [5, 7, 8, 9, 10, 15]  \n",
        "setify([3, 3, 3, 2, 1]) ➞ [1, 2, 3]  "
      ],
      "metadata": {
        "id": "ON32qo4T2vLP"
      }
    },
    {
      "cell_type": "code",
      "source": [
        "l  = [1, 3, 3, 5, 5]\n",
        "l1 = []\n",
        "for i in l :\n",
        "  if i not in l1 :\n",
        "    l1.append(i)\n",
        "  else :\n",
        "    pass\n",
        "l1"
      ],
      "metadata": {
        "colab": {
          "base_uri": "https://localhost:8080/"
        },
        "id": "-fUftwlk2q51",
        "outputId": "ea92aab6-2c36-4065-ede9-e26b7e929398"
      },
      "execution_count": 23,
      "outputs": [
        {
          "output_type": "execute_result",
          "data": {
            "text/plain": [
              "[1, 3, 5]"
            ]
          },
          "metadata": {},
          "execution_count": 23
        }
      ]
    },
    {
      "cell_type": "code",
      "source": [
        "def setify(list1):\n",
        "  l1 = []\n",
        "  for i in list1 :\n",
        "    if i not in l1 :\n",
        "      l1.append(i)\n",
        "  return sorted(l1) \n",
        "\n",
        "setify([3, 3, 3, 2, 1])"
      ],
      "metadata": {
        "colab": {
          "base_uri": "https://localhost:8080/"
        },
        "id": "L9f4mgqf25cE",
        "outputId": "718575c5-be68-4447-835d-bfbaea4357ca"
      },
      "execution_count": 26,
      "outputs": [
        {
          "output_type": "execute_result",
          "data": {
            "text/plain": [
              "[1, 2, 3]"
            ]
          },
          "metadata": {},
          "execution_count": 26
        }
      ]
    },
    {
      "cell_type": "markdown",
      "source": [
        "Question 5  \n",
        "Create a function that returns the mean of all digits.  \n",
        "Examples  \n",
        "mean(42) ➞ 3  \n",
        "mean(12345) ➞ 3  \n",
        "mean(666) ➞ 6  \n",
        "Notes  \n",
        " The mean of all digits is the sum of digits / how many digits there are (e.g. mean of digits in  \n",
        "512 is (5+1+2)/3(number of digits) = 8/3=2).  \n",
        " The mean will always be an integer.  "
      ],
      "metadata": {
        "id": "1ricckoC3qjX"
      }
    },
    {
      "cell_type": "code",
      "source": [
        "num = 42 \n",
        "sum = 0\n",
        "for i in str(num):\n",
        "  sum += int(i)\n",
        "sum "
      ],
      "metadata": {
        "colab": {
          "base_uri": "https://localhost:8080/"
        },
        "id": "JWhN7wGF3jMS",
        "outputId": "d988e1c6-289d-4226-c52a-7d204ca5507a"
      },
      "execution_count": 30,
      "outputs": [
        {
          "output_type": "execute_result",
          "data": {
            "text/plain": [
              "6"
            ]
          },
          "metadata": {},
          "execution_count": 30
        }
      ]
    },
    {
      "cell_type": "code",
      "source": [
        "def mean(num):\n",
        "  sum = 0 \n",
        "  count = 0\n",
        "  for i in str(num):\n",
        "    sum += int(i)\n",
        "    count +=1\n",
        "  return int(sum/count)\n",
        "\n",
        "mean(12345)"
      ],
      "metadata": {
        "colab": {
          "base_uri": "https://localhost:8080/"
        },
        "id": "ajhKlD774N6_",
        "outputId": "debff83b-cf48-4ca6-fb9b-5dce06de0254"
      },
      "execution_count": 37,
      "outputs": [
        {
          "output_type": "execute_result",
          "data": {
            "text/plain": [
              "3"
            ]
          },
          "metadata": {},
          "execution_count": 37
        }
      ]
    }
  ]
}