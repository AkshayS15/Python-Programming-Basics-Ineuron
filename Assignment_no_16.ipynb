{
  "nbformat": 4,
  "nbformat_minor": 0,
  "metadata": {
    "colab": {
      "provenance": []
    },
    "kernelspec": {
      "name": "python3",
      "display_name": "Python 3"
    },
    "language_info": {
      "name": "python"
    }
  },
  "cells": [
    {
      "cell_type": "markdown",
      "source": [
        "1. Write a function that stutters a word as if someone is struggling to read it.   \n",
        "\n",
        "The first two letters are repeated twice with an ellipsis ... and space after each, and then the  \n",
        "word is pronounced with a question mark ?.  \n",
        "Examples  \n",
        "stutter('incredible') ➞ 'in... in... incredible?'  \n",
        "stutter('enthusiastic') ➞ 'en... en... enthusiastic?'  \n",
        "stutter('outstanding') ➞ 'ou... ou... outstanding?'  \n",
        "\n",
        "Hint :- Assume all input is in lower case and at least two characters long.  \n",
        "ANS - "
      ],
      "metadata": {
        "id": "L4kiTnpEGe_D"
      }
    },
    {
      "cell_type": "code",
      "execution_count": 1,
      "metadata": {
        "colab": {
          "base_uri": "https://localhost:8080/"
        },
        "id": "KfI3AGcOGaoe",
        "outputId": "ba2ea01e-1f3c-427c-efb5-452ce5517f54"
      },
      "outputs": [
        {
          "output_type": "stream",
          "name": "stdout",
          "text": [
            "Enter word : incredible\n",
            "in... in... incredible?\n"
          ]
        }
      ],
      "source": [
        "def stutter(word):\n",
        "    return (2*(word[:2]+'... '))+word+'?'\n",
        "word = input('Enter word : ')\n",
        "print(stutter(word))"
      ]
    },
    {
      "cell_type": "markdown",
      "source": [
        "2. Create a function that takes an angle in radians and returns the corresponding  \n",
        "angle in degrees rounded to one decimal place.  \n",
        "Examples  \n",
        "radians_to_degrees(1) ➞ 57.3  \n",
        "radians_to_degrees(20) ➞ 1145.9  \n",
        "radians_to_degrees(50) ➞ 2864.8  \n",
        "ANS - "
      ],
      "metadata": {
        "id": "iZKDq3QTGwzb"
      }
    },
    {
      "cell_type": "code",
      "source": [
        "import numpy as np\n",
        "\n",
        "def radian_to_degree(angle):\n",
        "    return round(np.degrees(angle),1)"
      ],
      "metadata": {
        "id": "_3-og1UwGqkz"
      },
      "execution_count": 2,
      "outputs": []
    },
    {
      "cell_type": "code",
      "source": [
        "radian_to_degree(1)"
      ],
      "metadata": {
        "colab": {
          "base_uri": "https://localhost:8080/"
        },
        "id": "gJr2OIHXG6-P",
        "outputId": "67807349-07b7-48d8-9ed5-cf39b71b29a2"
      },
      "execution_count": 3,
      "outputs": [
        {
          "output_type": "execute_result",
          "data": {
            "text/plain": [
              "57.3"
            ]
          },
          "metadata": {},
          "execution_count": 3
        }
      ]
    },
    {
      "cell_type": "code",
      "source": [
        "radian_to_degree(20)"
      ],
      "metadata": {
        "colab": {
          "base_uri": "https://localhost:8080/"
        },
        "id": "0I5-EL2RG8sr",
        "outputId": "69089355-1822-4c6c-d70a-15a6435d2222"
      },
      "execution_count": 4,
      "outputs": [
        {
          "output_type": "execute_result",
          "data": {
            "text/plain": [
              "1145.9"
            ]
          },
          "metadata": {},
          "execution_count": 4
        }
      ]
    },
    {
      "cell_type": "code",
      "source": [
        "radian_to_degree(50)"
      ],
      "metadata": {
        "colab": {
          "base_uri": "https://localhost:8080/"
        },
        "id": "6UHmcpfeG_q8",
        "outputId": "b0b9722c-a202-44cd-df98-b1678fda8ff9"
      },
      "execution_count": 5,
      "outputs": [
        {
          "output_type": "execute_result",
          "data": {
            "text/plain": [
              "2864.8"
            ]
          },
          "metadata": {},
          "execution_count": 5
        }
      ]
    },
    {
      "cell_type": "markdown",
      "source": [
        "3. In this challenge, establish if a given integer num is a Curzon number. \n",
        "If 1 plus  2 elevated to num is exactly divisible by 1 plus 2 multiplied by num, then num is a Curzon number.  \n",
        "\n",
        "Given a non-negative integer num, implement a function that returns True if num is a Curzon  \n",
        "number, or False otherwise.  \n",
        "Examples\n",
        "is_curzon(5) ➞ True  \n",
        "2 ** 5 + 1 = 33  \n",
        "2 * 5 + 1 = 11  \n",
        "33 is a multiple of 11  \n",
        "is_curzon(10) ➞ False  \n",
        "2 ** 10 + 1 = 1025  \n",
        "2 * 10 + 1 = 21  \n",
        "1025 is not a multiple of 21  \n",
        "is_curzon(14) ➞ True  \n",
        "2 ** 14 + 1 = 16385  \n",
        "2 * 14 + 1 = 29  \n",
        "16385 is a multiple of 29  \n",
        "ANS - "
      ],
      "metadata": {
        "id": "rH42uq39HD0M"
      }
    },
    {
      "cell_type": "code",
      "source": [
        "# A number N is said to be a Curzon Number if 2**N + 1 is divisible by 2*N + 1.\n",
        "\n",
        "def curzon(num):\n",
        "    if ((2**num)+1)%((2*num)+1)==0:\n",
        "        print('True')\n",
        "        print('Its a curzon number')\n",
        "    else:\n",
        "        print('False')\n",
        "        print('Its not a curzon number')"
      ],
      "metadata": {
        "id": "qnMPspjSHBdl"
      },
      "execution_count": 6,
      "outputs": []
    },
    {
      "cell_type": "code",
      "source": [
        "curzon(5)"
      ],
      "metadata": {
        "colab": {
          "base_uri": "https://localhost:8080/"
        },
        "id": "w71h2GJiHZLt",
        "outputId": "cf4b972b-5b32-457f-f6a1-99ed81bfd985"
      },
      "execution_count": 7,
      "outputs": [
        {
          "output_type": "stream",
          "name": "stdout",
          "text": [
            "True\n",
            "Its a curzon number\n"
          ]
        }
      ]
    },
    {
      "cell_type": "code",
      "source": [
        "curzon(10)"
      ],
      "metadata": {
        "colab": {
          "base_uri": "https://localhost:8080/"
        },
        "id": "VlRC2tR-Hber",
        "outputId": "e4261167-d98b-4ed4-cc47-b918016a74ee"
      },
      "execution_count": 8,
      "outputs": [
        {
          "output_type": "stream",
          "name": "stdout",
          "text": [
            "False\n",
            "Its not a curzon number\n"
          ]
        }
      ]
    },
    {
      "cell_type": "code",
      "source": [
        "curzon(14)"
      ],
      "metadata": {
        "colab": {
          "base_uri": "https://localhost:8080/"
        },
        "id": "2DXkUO5GHdEj",
        "outputId": "1c0aa01a-f1f3-42ef-eedd-2b6be7c705b3"
      },
      "execution_count": 9,
      "outputs": [
        {
          "output_type": "stream",
          "name": "stdout",
          "text": [
            "True\n",
            "Its a curzon number\n"
          ]
        }
      ]
    },
    {
      "cell_type": "markdown",
      "source": [
        "4. Given the side length x find the area of a hexagon.  \n",
        "Examples\n",
        "\n",
        "area_of_hexagon(1) ➞ 2.6\n",
        "\n",
        "area_of_hexagon(2) ➞ 10.4\n",
        "\n",
        "area_of_hexagon(3) ➞ 23.4  \n",
        "ANS - "
      ],
      "metadata": {
        "id": "gbFaowLFHhQ0"
      }
    },
    {
      "cell_type": "code",
      "source": [
        "# area of a Hexagon\n",
        "# Area = (3 √3(n*n) ) / 2\n",
        "import math\n",
        "def area_of_hexagon(s):     \n",
        "    return ((3 * math.sqrt(3) * (sideLength * sideLength)) / 2);\n",
        "     \n",
        "#length of a side.\n",
        "sideLength = float(input('Enter the length : '))\n",
        "\n",
        "print(\"Area:\",\"{0:.4f}\".format(area_of_hexagon(sideLength)))"
      ],
      "metadata": {
        "colab": {
          "base_uri": "https://localhost:8080/"
        },
        "id": "1RhDJVqvHe2w",
        "outputId": "b3363ea3-5d45-46d5-d619-c63f6acae0d9"
      },
      "execution_count": 10,
      "outputs": [
        {
          "output_type": "stream",
          "name": "stdout",
          "text": [
            "Enter the length : 2.6\n",
            "Area: 17.5630\n"
          ]
        }
      ]
    },
    {
      "cell_type": "markdown",
      "source": [
        "5. Create a function that returns a base-2 (binary) representation of a base-10(decimal) string number. To convert is simple: ((2) means base-2 and (10) means base-10)010101001(2) = 1 + 8 + 32 + 128.  \n",
        "\n",
        "Going from right to left, the value of the most right bit is 1, now from that every bit to the left  \n",
        "will be x2 the value, value of an 8 bit binary numbers are (256, 128, 64, 32, 16, 8, 4, 2, 1).  \n",
        "Examples  \n",
        "binary(1) ➞ '1'  \n",
        "1*1 = 1  \n",
        "binary(5) ➞ '101'  \n",
        "1*1 + 1*4 = 5  \n",
        "binary(10) ➞ '1010'  \n",
        "1*2 + 1*8 = 10  \n",
        "ANS - "
      ],
      "metadata": {
        "id": "XqtDvt5tHt3h"
      }
    },
    {
      "cell_type": "code",
      "source": [
        "def binary(num):\n",
        "    if num >= 1:\n",
        "        binary(num // 2)\n",
        "        print(num % 2,end='')"
      ],
      "metadata": {
        "id": "JSDwpW2_Hp7D"
      },
      "execution_count": 11,
      "outputs": []
    },
    {
      "cell_type": "code",
      "source": [
        "binary(1)"
      ],
      "metadata": {
        "colab": {
          "base_uri": "https://localhost:8080/"
        },
        "id": "0LzKWKgYH5K5",
        "outputId": "0ece5dd7-286d-495d-e8a4-459b6e7e5608"
      },
      "execution_count": 12,
      "outputs": [
        {
          "output_type": "stream",
          "name": "stdout",
          "text": [
            "1"
          ]
        }
      ]
    },
    {
      "cell_type": "code",
      "source": [
        "binary(5)"
      ],
      "metadata": {
        "colab": {
          "base_uri": "https://localhost:8080/"
        },
        "id": "k2QOiXCHH7bl",
        "outputId": "0568ffa8-60ae-49fe-8dc1-393fe697a7c9"
      },
      "execution_count": 13,
      "outputs": [
        {
          "output_type": "stream",
          "name": "stdout",
          "text": [
            "101"
          ]
        }
      ]
    },
    {
      "cell_type": "code",
      "source": [
        "binary(10)"
      ],
      "metadata": {
        "colab": {
          "base_uri": "https://localhost:8080/"
        },
        "id": "DuuLppN_H882",
        "outputId": "8ea98789-4c9e-42eb-9230-a64a39e57def"
      },
      "execution_count": 14,
      "outputs": [
        {
          "output_type": "stream",
          "name": "stdout",
          "text": [
            "1010"
          ]
        }
      ]
    }
  ]
}