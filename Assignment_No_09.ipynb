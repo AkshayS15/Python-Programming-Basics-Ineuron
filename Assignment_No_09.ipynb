{
  "nbformat": 4,
  "nbformat_minor": 0,
  "metadata": {
    "colab": {
      "name": "Assignment_No_09.ipynb",
      "provenance": [],
      "collapsed_sections": []
    },
    "kernelspec": {
      "name": "python3",
      "display_name": "Python 3"
    },
    "language_info": {
      "name": "python"
    }
  },
  "cells": [
    {
      "cell_type": "markdown",
      "source": [
        "**1.Write a Python Program to check if the given number is a Disarium Number ?**  \n",
        "ANS - "
      ],
      "metadata": {
        "id": "WbCPp_uz7SPH"
      }
    },
    {
      "cell_type": "code",
      "source": [
        "def checkDisariumNumber():\n",
        "    num = input('Enter a Number: ')\n",
        "    sum = 0\n",
        "    for item in range(len(num)):\n",
        "        sum = sum + int(num[item])**(item+1)\n",
        "    if sum == int(num):\n",
        "        print(f'{num} is a Disarium Number')\n",
        "    else:\n",
        "        print(f'{num} is a Not Disarium Number') "
      ],
      "metadata": {
        "id": "HEYuOsc47XAC"
      },
      "execution_count": 1,
      "outputs": []
    },
    {
      "cell_type": "code",
      "source": [
        "checkDisariumNumber()"
      ],
      "metadata": {
        "colab": {
          "base_uri": "https://localhost:8080/"
        },
        "id": "5AXrTeFH8Ydb",
        "outputId": "0fc95402-8ae1-496d-c644-e34b178980b4"
      },
      "execution_count": 2,
      "outputs": [
        {
          "output_type": "stream",
          "name": "stdout",
          "text": [
            "Enter a Number: 266\n",
            "266 is a Not Disarium Number\n"
          ]
        }
      ]
    },
    {
      "cell_type": "markdown",
      "source": [
        "**2.Write a Python Program to print all Disarium numbers between 1 to 100 ?**  \n",
        "ANS - "
      ],
      "metadata": {
        "id": "t51fbsqm8nIV"
      }
    },
    {
      "cell_type": "code",
      "source": [
        "def printDisariumNumbers(start=0,end=100):\n",
        "    num = []\n",
        "    for number in range(start,end+1):\n",
        "        sum = 0\n",
        "        for item in range(len(str(number))):\n",
        "            sum = sum + int(str(number)[item])**(item+1)\n",
        "        if sum == number:\n",
        "            num.append(number)\n",
        "    return num"
      ],
      "metadata": {
        "id": "QEKLEUil8pTo"
      },
      "execution_count": 3,
      "outputs": []
    },
    {
      "cell_type": "code",
      "source": [
        "printDisariumNumbers(1,100)"
      ],
      "metadata": {
        "colab": {
          "base_uri": "https://localhost:8080/"
        },
        "id": "mEA0zkTd83m-",
        "outputId": "cf2fbdd6-906f-40ee-ff09-ca773824ede9"
      },
      "execution_count": 5,
      "outputs": [
        {
          "output_type": "execute_result",
          "data": {
            "text/plain": [
              "[1, 2, 3, 4, 5, 6, 7, 8, 9, 89]"
            ]
          },
          "metadata": {},
          "execution_count": 5
        }
      ]
    },
    {
      "cell_type": "markdown",
      "source": [
        "**3.Write a Python Program to check if the given number is Happy Number ?**  \n",
        "ANS - "
      ],
      "metadata": {
        "id": "JHk9d4Kj9JsH"
      }
    },
    {
      "cell_type": "code",
      "source": [
        "def checkHappyNumber():\n",
        "    in_num = input('Enter a Number: ')\n",
        "    in_num_duplicate = in_num\n",
        "    trackNumber = set()   \n",
        "    while True:\n",
        "        if in_num != '1' and str(in_num) not in trackNumber:\n",
        "            trackNumber.add(in_num)\n",
        "            sum = 0\n",
        "            for ele in range(len((in_num))):\n",
        "                sum = sum + int(in_num[ele])**2\n",
        "            in_num = str(sum)\n",
        "        elif str(in_num) in trackNumber:\n",
        "            print(f'{in_num_duplicate} is not a Happy Number')\n",
        "            break\n",
        "        else:\n",
        "            print(f'{in_num_duplicate} is a Happy Number')\n",
        "            break"
      ],
      "metadata": {
        "id": "qN5k6ria9OND"
      },
      "execution_count": 6,
      "outputs": []
    },
    {
      "cell_type": "code",
      "source": [
        "checkHappyNumber()"
      ],
      "metadata": {
        "colab": {
          "base_uri": "https://localhost:8080/"
        },
        "id": "p9y9CTSX-ekE",
        "outputId": "797c2ac7-08af-44f3-8758-858c34c395c3"
      },
      "execution_count": 7,
      "outputs": [
        {
          "output_type": "stream",
          "name": "stdout",
          "text": [
            "Enter a Number: 10\n",
            "10 is a Happy Number\n"
          ]
        }
      ]
    },
    {
      "cell_type": "markdown",
      "source": [
        "**4.Write a Python Program to print all Happy numbers between 1 and 100 ?**  \n",
        "ANS - "
      ],
      "metadata": {
        "id": "ZU8s7phU-nlF"
      }
    },
    {
      "cell_type": "code",
      "source": [
        "def checkHappyNumber(start=0,end=100):\n",
        "    happyNumbersList = []\n",
        "    for in_num in range(start,end+1):\n",
        "        in_num = str(in_num)\n",
        "        inum_holder = in_num\n",
        "        trackNumber = set()   \n",
        "        while True:\n",
        "            if in_num != '1' and str(in_num) not in trackNumber:\n",
        "                trackNumber.add(in_num)\n",
        "                sum = 0\n",
        "                for ele in range(len((in_num))):\n",
        "                    sum = sum + int(in_num[ele])**2\n",
        "                in_num = str(sum)\n",
        "            elif str(in_num) in trackNumber:\n",
        "                break\n",
        "            else:\n",
        "                happyNumbersList.append(int(inum_holder))\n",
        "                break\n",
        "    print(f'The Happy Numbers between {start} and {end} are {happyNumbersList}')"
      ],
      "metadata": {
        "id": "8Yqsjdau-stU"
      },
      "execution_count": 8,
      "outputs": []
    },
    {
      "cell_type": "code",
      "source": [
        "checkHappyNumber(0,100)"
      ],
      "metadata": {
        "colab": {
          "base_uri": "https://localhost:8080/"
        },
        "id": "PEXbGew2-vzH",
        "outputId": "75c20a13-f86c-4291-90cd-8156b040f4a7"
      },
      "execution_count": 9,
      "outputs": [
        {
          "output_type": "stream",
          "name": "stdout",
          "text": [
            "The Happy Numbers between 0 and 100 are [1, 7, 10, 13, 19, 23, 28, 31, 32, 44, 49, 68, 70, 79, 82, 86, 91, 94, 97, 100]\n"
          ]
        }
      ]
    },
    {
      "cell_type": "markdown",
      "source": [
        "**5.Write a Python Program to determine whether the given number is a Harshad Number ?**  \n",
        "ANS - "
      ],
      "metadata": {
        "id": "i8cPtnFT-2U_"
      }
    },
    {
      "cell_type": "code",
      "source": [
        "def checkHarshadNumber():\n",
        "    in_num = input('Enter a Number: ')\n",
        "    sum = 0\n",
        "    for item in range(len(in_num)):\n",
        "        sum = sum + int(in_num[item])\n",
        "    if int(in_num)%sum == 0:\n",
        "        print(f'{in_num} is a Harshad Number')\n",
        "    else:\n",
        "        print(f'{in_num} is a Not Harshad Number')"
      ],
      "metadata": {
        "id": "P-DNQjZ1-79Z"
      },
      "execution_count": 10,
      "outputs": []
    },
    {
      "cell_type": "code",
      "source": [
        "checkHarshadNumber()"
      ],
      "metadata": {
        "colab": {
          "base_uri": "https://localhost:8080/"
        },
        "id": "Nn_CBaWp--BP",
        "outputId": "4609eb67-c408-4e90-e531-46bfe032173c"
      },
      "execution_count": 11,
      "outputs": [
        {
          "output_type": "stream",
          "name": "stdout",
          "text": [
            "Enter a Number: 20\n",
            "20 is a Harshad Number\n"
          ]
        }
      ]
    },
    {
      "cell_type": "markdown",
      "source": [
        "**6.Write a Python Program to print all pronic numbers between 1 and 100 ?**  \n",
        "ANS - "
      ],
      "metadata": {
        "id": "MT8NPfUM_EK1"
      }
    },
    {
      "cell_type": "code",
      "source": [
        "def printPronicNumbers(start=0,end=100):\n",
        "    outputList = []\n",
        "    for ele in range(start,end+1):\n",
        "        outputList.append((ele)*(ele+1))\n",
        "    print(outputList)"
      ],
      "metadata": {
        "id": "rz_k-FAO_IRJ"
      },
      "execution_count": 12,
      "outputs": []
    },
    {
      "cell_type": "code",
      "source": [
        "printPronicNumbers()"
      ],
      "metadata": {
        "colab": {
          "base_uri": "https://localhost:8080/"
        },
        "id": "2dOhsTQb_KHc",
        "outputId": "52e9856f-fbc1-4a0b-da50-34b512ed1a23"
      },
      "execution_count": 13,
      "outputs": [
        {
          "output_type": "stream",
          "name": "stdout",
          "text": [
            "[0, 2, 6, 12, 20, 30, 42, 56, 72, 90, 110, 132, 156, 182, 210, 240, 272, 306, 342, 380, 420, 462, 506, 552, 600, 650, 702, 756, 812, 870, 930, 992, 1056, 1122, 1190, 1260, 1332, 1406, 1482, 1560, 1640, 1722, 1806, 1892, 1980, 2070, 2162, 2256, 2352, 2450, 2550, 2652, 2756, 2862, 2970, 3080, 3192, 3306, 3422, 3540, 3660, 3782, 3906, 4032, 4160, 4290, 4422, 4556, 4692, 4830, 4970, 5112, 5256, 5402, 5550, 5700, 5852, 6006, 6162, 6320, 6480, 6642, 6806, 6972, 7140, 7310, 7482, 7656, 7832, 8010, 8190, 8372, 8556, 8742, 8930, 9120, 9312, 9506, 9702, 9900, 10100]\n"
          ]
        }
      ]
    },
    {
      "cell_type": "code",
      "source": [
        ""
      ],
      "metadata": {
        "id": "BG0VWSOk_M36"
      },
      "execution_count": null,
      "outputs": []
    }
  ]
}