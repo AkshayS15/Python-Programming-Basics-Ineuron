{
  "nbformat": 4,
  "nbformat_minor": 0,
  "metadata": {
    "colab": {
      "name": "Assignment no.4.ipynb",
      "provenance": [],
      "collapsed_sections": []
    },
    "kernelspec": {
      "name": "python3",
      "display_name": "Python 3"
    },
    "language_info": {
      "name": "python"
    }
  },
  "cells": [
    {
      "cell_type": "markdown",
      "source": [
        "**1.Write a Python Program to Find the Factorial of a Number?**  \n",
        "ANS - "
      ],
      "metadata": {
        "id": "ugF_wEk3ZJd_"
      }
    },
    {
      "cell_type": "code",
      "source": [
        "#Taking input of number\n",
        "numb = int(input(\"enter a number : \"))\n",
        "factorial = 1\n",
        "\n",
        "if numb == 0 :\n",
        "  print(\"The factorial of Zero is 1\")\n",
        "elif numb < 0 :\n",
        "  print(\"Fcatorial cannot be calculated for negative values\")\n",
        "else :\n",
        "  for i in range(1,numb+1):\n",
        "    factorial = factorial * i\n",
        "print(\"factorial of {} is {}\".format(numb,factorial))\n"
      ],
      "metadata": {
        "colab": {
          "base_uri": "https://localhost:8080/"
        },
        "id": "wbw_cbD7ZOVf",
        "outputId": "d5228849-d985-4974-ebce-5b9be5b938f9"
      },
      "execution_count": 1,
      "outputs": [
        {
          "output_type": "stream",
          "name": "stdout",
          "text": [
            "enter a number : 5\n",
            "factorial of 5 is 120\n"
          ]
        }
      ]
    },
    {
      "cell_type": "markdown",
      "source": [
        "**2. Write a Python Program to Display the multiplication Table?**  \n",
        "ANS - "
      ],
      "metadata": {
        "id": "kSl8bp-cauf_"
      }
    },
    {
      "cell_type": "code",
      "source": [
        "#Taking input of number\n",
        "\n",
        "n = int(input(\"Enter a number : \"))\n",
        "\n",
        "if n > 0 :\n",
        "  print(\"Multiplication table for\" , n, \"is \\n\")\n",
        "\n",
        "for i in range(1,11):\n",
        "  print(n , 'x', i , '=', n*i)"
      ],
      "metadata": {
        "colab": {
          "base_uri": "https://localhost:8080/"
        },
        "id": "ETtsrHpoayeh",
        "outputId": "a0235134-6522-45f1-df29-ddae0ad23458"
      },
      "execution_count": 2,
      "outputs": [
        {
          "output_type": "stream",
          "name": "stdout",
          "text": [
            "Enter a number : 5\n",
            "Multiplication table for 5 is \n",
            "\n",
            "5 x 1 = 5\n",
            "5 x 2 = 10\n",
            "5 x 3 = 15\n",
            "5 x 4 = 20\n",
            "5 x 5 = 25\n",
            "5 x 6 = 30\n",
            "5 x 7 = 35\n",
            "5 x 8 = 40\n",
            "5 x 9 = 45\n",
            "5 x 10 = 50\n"
          ]
        }
      ]
    },
    {
      "cell_type": "markdown",
      "source": [
        "**3. Write a Python Program to Print the Fibonacci sequence?**  \n",
        "ANS - "
      ],
      "metadata": {
        "id": "BfeNH-1de0Rp"
      }
    },
    {
      "cell_type": "code",
      "source": [
        "#Taking input of nTh term\n",
        "\n",
        "nTerm = int(input('Enter number of terms : '))\n",
        "\n",
        "n1 , n2 = 0, 1\n",
        "count = 0\n",
        "\n",
        "if n <= 0 :\n",
        "  print(\"Enetr a positive number\")\n",
        "elif nTerm == 1 :\n",
        "  print(\"The Fibonacci sequence upto\", nTerm , \":\")\n",
        "  print(n1)\n",
        "else:\n",
        "  print(\"Fibonacci sequence :\")\n",
        "  while count < nTerm :\n",
        "    print(n1)\n",
        "    nth = n1 + n2 \n",
        "    n1 = n2 \n",
        "    n2 = nth\n",
        "    count += 1"
      ],
      "metadata": {
        "colab": {
          "base_uri": "https://localhost:8080/"
        },
        "id": "Moj6UNpzkX0o",
        "outputId": "1ed063f7-2bb9-43d2-da00-faec5450d3c8"
      },
      "execution_count": 5,
      "outputs": [
        {
          "output_type": "stream",
          "name": "stdout",
          "text": [
            "Enter number of terms : 12\n",
            "Fibonacci sequence :\n",
            "0\n",
            "1\n",
            "1\n",
            "2\n",
            "3\n",
            "5\n",
            "8\n",
            "13\n",
            "21\n",
            "34\n",
            "55\n",
            "89\n"
          ]
        }
      ]
    },
    {
      "cell_type": "markdown",
      "source": [
        "**4.Write a Python program to check Armstrong Number?**  \n",
        "ANS - "
      ],
      "metadata": {
        "id": "1dOMjGdCniE3"
      }
    },
    {
      "cell_type": "code",
      "source": [
        "num = int(input(\"Enter a number : \"))\n",
        "\n",
        "sum = 0 \n",
        "\n",
        "temp = num\n",
        "while temp > 0 :\n",
        "  dig = temp % 10 \n",
        "  sum += dig**3 \n",
        "  temp //= 10\n",
        "\n",
        "if num == sum :\n",
        "  print(num , \"is an ARmstrong number\")\n",
        "else :\n",
        "  print(num , \"is not an ARmstrong number\")"
      ],
      "metadata": {
        "colab": {
          "base_uri": "https://localhost:8080/"
        },
        "id": "NTBld8U3oHFR",
        "outputId": "61e3ce1b-0bfe-48bf-b466-e2389504577a"
      },
      "execution_count": 10,
      "outputs": [
        {
          "output_type": "stream",
          "name": "stdout",
          "text": [
            "Enter a number : 69\n",
            "69 is not an ARmstrong number\n"
          ]
        }
      ]
    },
    {
      "cell_type": "markdown",
      "source": [
        "**5.Write a Python program to find Armstrong Number in an interval?**  \n",
        "ANS - "
      ],
      "metadata": {
        "id": "3a3BJ_depI_I"
      }
    },
    {
      "cell_type": "code",
      "source": [
        "upper = int(input(\"Enter a upper value : \"))\n",
        "lower = int(input(\"Enter a lower value : \"))\n",
        "\n",
        "for num in range(lower,upper+1):\n",
        "  power = len(str(num))\n",
        "  temp = num \n",
        "  sum = 0\n",
        "  while temp > 0:\n",
        "    dig = temp%10\n",
        "    sum += dig**power\n",
        "    temp //= 10\n",
        "  if num == sum :\n",
        "    print(num)\n"
      ],
      "metadata": {
        "colab": {
          "base_uri": "https://localhost:8080/"
        },
        "id": "fZErNFXMpNXD",
        "outputId": "de1224d5-467e-4eb3-b612-e2261ea8c113"
      },
      "execution_count": 12,
      "outputs": [
        {
          "output_type": "stream",
          "name": "stdout",
          "text": [
            "Enter a upper value : 1200\n",
            "Enter a lower value : 100\n",
            "153\n",
            "370\n",
            "371\n",
            "407\n"
          ]
        }
      ]
    },
    {
      "cell_type": "markdown",
      "source": [
        "**6.Write a Python Program to Find the sum of Natural Numbers?**  \n",
        "ANS - "
      ],
      "metadata": {
        "id": "OkQCvlo2rIyH"
      }
    },
    {
      "cell_type": "code",
      "source": [
        "num = int(input(\"Enter a number : \"))\n",
        "\n",
        "if num < 0 or num  == 0:\n",
        "  print(\"Please enter a positive number\")\n",
        "\n",
        "sum = 0 \n",
        "if (num>0):\n",
        "  for i in range(1,num+1):\n",
        "    sum = sum + i\n",
        "  print(\"Sum of first {} numbers = {}\".format(num,sum))"
      ],
      "metadata": {
        "colab": {
          "base_uri": "https://localhost:8080/"
        },
        "id": "Q6Bxh_PPrNX1",
        "outputId": "00b78f3d-4f80-4d1c-c095-04e81f8ee559"
      },
      "execution_count": 16,
      "outputs": [
        {
          "output_type": "stream",
          "name": "stdout",
          "text": [
            "Enter a number : -56\n",
            "Please enter a positive number\n"
          ]
        }
      ]
    }
  ]
}