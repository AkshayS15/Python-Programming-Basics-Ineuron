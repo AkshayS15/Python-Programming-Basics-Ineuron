{
  "nbformat": 4,
  "nbformat_minor": 0,
  "metadata": {
    "colab": {
      "provenance": []
    },
    "kernelspec": {
      "name": "python3",
      "display_name": "Python 3"
    },
    "language_info": {
      "name": "python"
    }
  },
  "cells": [
    {
      "cell_type": "markdown",
      "source": [
        "**1:  \n",
        "Please write a program using generator to print the numbers which can be divisible by 5 and 7 between 0 and n in comma separated form while n is input by console.  \n",
        "Example:  \n",
        "If the following n is given as input to the program: 100  \n",
        "Then, the output of the program should be: 0,35,70**  \n",
        "ANS - "
      ],
      "metadata": {
        "id": "I1W3rfRAUOlf"
      }
    },
    {
      "cell_type": "code",
      "execution_count": 1,
      "metadata": {
        "colab": {
          "base_uri": "https://localhost:8080/"
        },
        "id": "Fw42mXufUHqY",
        "outputId": "c46d4aac-854b-464a-d775-3ef0e5142c52"
      },
      "outputs": [
        {
          "output_type": "stream",
          "name": "stdout",
          "text": [
            "enter n : 100\n",
            "0,35,70\n"
          ]
        }
      ],
      "source": [
        "def putNumbers(n): \n",
        "    i = 0 \n",
        "    while i < n:\n",
        "        j = i\n",
        "        i += 1 \n",
        "        if j % 7 == 0 and j % 5 == 0:\n",
        "            yield j\n",
        "n = int(input('enter n : '))\n",
        "num =[]\n",
        "for i in putNumbers(n): \n",
        "    num.append(str(i))\n",
        "    \n",
        "print(','.join(num))"
      ]
    },
    {
      "cell_type": "markdown",
      "source": [
        "**2:\n",
        "Please write a program using generator to print the even numbers between 0 and n in comma  \n",
        "separated form while n is input by console.  \n",
        "Example:  \n",
        "If the following n is given as input to the program:  \n",
        "10  \n",
        "Then, the output of the program should be:  \n",
        "0,2,4,6,8,10**   \n",
        "ANS - "
      ],
      "metadata": {
        "id": "_W99jGfhUeiD"
      }
    },
    {
      "cell_type": "code",
      "source": [
        "def genEvenNumbers(in_num):\n",
        "    for ele in range(in_num+1):\n",
        "        if ele%2 == 0:\n",
        "            yield ele\n",
        "\n",
        "for ele in genEvenNumbers(10):\n",
        "    print(ele,end=' ')"
      ],
      "metadata": {
        "colab": {
          "base_uri": "https://localhost:8080/"
        },
        "id": "MGmC6umHUWPX",
        "outputId": "b2169de4-8e7c-43a0-ce14-1cc88a6f1240"
      },
      "execution_count": 2,
      "outputs": [
        {
          "output_type": "stream",
          "name": "stdout",
          "text": [
            "0 2 4 6 8 10 "
          ]
        }
      ]
    },
    {
      "cell_type": "markdown",
      "source": [
        "**3.The Fibonacci Sequence is computed based on the following formula:  \n",
        "f(n)=0 if n=0  \n",
        "f(n)=1 if n=1  \n",
        "f(n)=f(n-1)+f(n-2) if n>1  \n",
        "Please write a program using list comprehension to print the Fibonacci Sequence in comma separated form with a given n input by console.  \n",
        "Example:  \n",
        "If the following n is given as input to the program:  \n",
        "7  \n",
        "Then, the output of the program should be:  \n",
        "0,1,1,2,3,5,8,13**  \n",
        "ANS - "
      ],
      "metadata": {
        "id": "asu_yazNUxma"
      }
    },
    {
      "cell_type": "code",
      "source": [
        "n = int(input())\n",
        "f = lambda x: 0 if x == 0 else 1 if x == 1 else f(x-1)+f(x-2)\n",
        "print(','.join([str(f(x)) for x in range(0, n+1)]))"
      ],
      "metadata": {
        "colab": {
          "base_uri": "https://localhost:8080/"
        },
        "id": "BGH_5mcqUtEk",
        "outputId": "cbeb1ba8-f207-4849-c3fe-ae47857ed85a"
      },
      "execution_count": 3,
      "outputs": [
        {
          "output_type": "stream",
          "name": "stdout",
          "text": [
            "7\n",
            "0,1,1,2,3,5,8,13\n"
          ]
        }
      ]
    },
    {
      "cell_type": "markdown",
      "source": [
        "**4.Assuming that we have some email addresses in the \"username@companyname.com\" format, please write program to print the user name of a given email address. Both user names and company names are composed of letters only ?**   \n",
        "**Example**:  \n",
        "If the following email address is given as input to the program: john@google.com\n",
        "Then, the output of the program should be: john   \n",
        "ANS - "
      ],
      "metadata": {
        "id": "TSPONUaKVDWn"
      }
    },
    {
      "cell_type": "code",
      "source": [
        "def reg_search(my_str):\n",
        "    import re\n",
        "    pat = re.compile(r'(\\w+)@(\\w+)\\.(\\w+)') #words@words.words\n",
        "    grp = pat.search(my_str)\n",
        "    return grp.group(1)  #getting the first group"
      ],
      "metadata": {
        "id": "LyH5SqajVSrC"
      },
      "execution_count": 5,
      "outputs": []
    },
    {
      "cell_type": "code",
      "source": [
        "reg_search(\"username@companyname.com\")"
      ],
      "metadata": {
        "colab": {
          "base_uri": "https://localhost:8080/",
          "height": 36
        },
        "id": "JKMbP4JhVXod",
        "outputId": "42f381bb-4ea9-4935-b3b5-f75ca6ef65a8"
      },
      "execution_count": 6,
      "outputs": [
        {
          "output_type": "execute_result",
          "data": {
            "text/plain": [
              "'username'"
            ],
            "application/vnd.google.colaboratory.intrinsic+json": {
              "type": "string"
            }
          },
          "metadata": {},
          "execution_count": 6
        }
      ]
    },
    {
      "cell_type": "code",
      "source": [
        "reg_search('john@google.com')"
      ],
      "metadata": {
        "colab": {
          "base_uri": "https://localhost:8080/",
          "height": 36
        },
        "id": "8EmWzYi6VZq5",
        "outputId": "14cca48c-3928-4610-edc6-0d005f911585"
      },
      "execution_count": 7,
      "outputs": [
        {
          "output_type": "execute_result",
          "data": {
            "text/plain": [
              "'john'"
            ],
            "application/vnd.google.colaboratory.intrinsic+json": {
              "type": "string"
            }
          },
          "metadata": {},
          "execution_count": 7
        }
      ]
    },
    {
      "cell_type": "markdown",
      "source": [
        "**5.Define a class named Shape and its subclass Square. The Square class has an init function which takes a length as argument. Both classes have a area function which can print the area of the shape where Shape's area is 0 by default.**  \n",
        "ANS - "
      ],
      "metadata": {
        "id": "pwS7b_GRVdMh"
      }
    },
    {
      "cell_type": "code",
      "source": [
        "class Shape:\n",
        "    def area(self):\n",
        "        return 0\n",
        "\n",
        "class Square(Shape):\n",
        "    def __init__(self, length):\n",
        "        self.length = length\n",
        "    def area(self):\n",
        "        return self.length*self.length\n",
        "\n",
        "square = Square(50)\n",
        "print(square.area())"
      ],
      "metadata": {
        "colab": {
          "base_uri": "https://localhost:8080/"
        },
        "id": "bJ81jZUpVbot",
        "outputId": "6a600ef5-4576-4b4f-9613-c5c4d7510e5b"
      },
      "execution_count": 8,
      "outputs": [
        {
          "output_type": "stream",
          "name": "stdout",
          "text": [
            "2500\n"
          ]
        }
      ]
    }
  ]
}