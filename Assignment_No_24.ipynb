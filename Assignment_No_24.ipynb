{
  "nbformat": 4,
  "nbformat_minor": 0,
  "metadata": {
    "colab": {
      "provenance": []
    },
    "kernelspec": {
      "name": "python3",
      "display_name": "Python 3"
    },
    "language_info": {
      "name": "python"
    }
  },
  "cells": [
    {
      "cell_type": "markdown",
      "source": [
        "1.Create a function that takes an integer and returns a list from 1 to the given number, where:  \n",
        "1.If the number can be divided evenly by 4, amplify it by 10 (i.e. return 10 times the number).  \n",
        "2.If the number cannot be divided evenly by 4, simply return the number.  \n",
        "\n",
        "Examples:  \n",
        "amplify(4) ➞ [1, 2, 3, 40]  \n",
        "amplify(3) ➞ [1, 2, 3]  \n",
        "amplify(25) ➞ [1, 2, 3, 40, 5, 6, 7, 80, 9, 10, 11, 120, 13, 14, 15, 160, 17, 18, 19, 200, 21, 22, 23, 240, 25]  \n",
        "\n",
        "Notes:  \n",
        "1.The given integer will always be equal to or greater than 1.  \n",
        "2.Include the number (see example above).  \n",
        "3.To perform this problem with its intended purpose, try doing it with list"
      ],
      "metadata": {
        "id": "szC0PH50XwgZ"
      }
    },
    {
      "cell_type": "code",
      "execution_count": 1,
      "metadata": {
        "colab": {
          "base_uri": "https://localhost:8080/"
        },
        "id": "CUSreNlPXvVi",
        "outputId": "2c095584-7b5f-4c65-c05f-2a9722204122"
      },
      "outputs": [
        {
          "output_type": "stream",
          "name": "stdout",
          "text": [
            "4 ➞ [1, 2, 3, 40]\n",
            "3 ➞ [1, 2, 3]\n",
            "25 ➞ [1, 2, 3, 40, 5, 6, 7, 80, 9, 10, 11, 120, 13, 14, 15, 160, 17, 18, 19, 200, 21, 22, 23, 240, 25]\n"
          ]
        }
      ],
      "source": [
        "def amplify(in_num):\n",
        "    out_list = []\n",
        "    for ele in range(1,in_num+1):\n",
        "        if ele%4 == 0:\n",
        "            out_list.append(ele*10)\n",
        "        else:\n",
        "            out_list.append(ele)\n",
        "    print(f'{in_num} ➞ {out_list}')\n",
        "            \n",
        "amplify(4)\n",
        "amplify(3)\n",
        "amplify(25)"
      ]
    },
    {
      "cell_type": "markdown",
      "source": [
        "\n",
        "2.Create a function that takes a list of numbers and return the number that's unique.  \n",
        "Examples:  \n",
        "unique([3, 3, 3, 7, 3, 3]) ➞ 7  \n",
        "unique([0, 0, 0.77, 0, 0]) ➞ 0.77  \n",
        "unique([0, 1, 1, 1, 1, 1, 1, 1]) ➞ 0  \n",
        "\n",
        "Notes:  \n",
        "Test cases will always have exactly one unique number while all others are the same."
      ],
      "metadata": {
        "id": "cVfk7vDKX-Wr"
      }
    },
    {
      "cell_type": "code",
      "source": [
        "def unique(in_list):\n",
        "    out_num = ''\n",
        "    for ele in set(in_list):\n",
        "        if in_list.count(ele) == 1:\n",
        "            out_num = ele\n",
        "    print(f'{in_list} ➞ {out_num}')\n",
        "\n",
        "unique([3, 3, 3, 7, 3, 3])\n",
        "unique([0, 0, 0.77, 0, 0])\n",
        "unique([0, 1, 1, 1, 1, 1, 1, 1])"
      ],
      "metadata": {
        "colab": {
          "base_uri": "https://localhost:8080/"
        },
        "id": "NX5gXxspX77k",
        "outputId": "3a55eee2-e60a-4231-c581-e5768d89ee4d"
      },
      "execution_count": 2,
      "outputs": [
        {
          "output_type": "stream",
          "name": "stdout",
          "text": [
            "[3, 3, 3, 7, 3, 3] ➞ 7\n",
            "[0, 0, 0.77, 0, 0] ➞ 0.77\n",
            "[0, 1, 1, 1, 1, 1, 1, 1] ➞ 0\n"
          ]
        }
      ]
    },
    {
      "cell_type": "markdown",
      "source": [
        "3.Your task is to create a Circle constructor that creates a circle with a radius provided by an argument. The circles constructed must have two getters getArea() (PIr^2) and getPerimeter() (2PI*r) which give both respective areas and perimeter (circumference). For help with this class, I have provided you with a Rectangle constructor which you can use as a base example ?  \n",
        "Examples:  \n",
        "circy = Circle(11)  \n",
        "circy.getArea()  \n",
        "Should return 380.132711084365 circy = Circle(4.44)  \n",
        "circy.getPerimeter()  \n",
        "Should return 27.897342763877365  \n",
        "Notes:  \n",
        "Round results up to the nearest integer."
      ],
      "metadata": {
        "id": "PGdmRzl1YHo0"
      }
    },
    {
      "cell_type": "code",
      "source": [
        "import math\n",
        "\n",
        "class Circle:\n",
        "    def __init__(self, radius):\n",
        "        self.radius = radius\n",
        "    def getArea(self):\n",
        "        print(f'Radius ➞ {round(math.pi*self.radius*self.radius)}')\n",
        "    def getPerimeter(self):\n",
        "        print(f'Perimeter ➞ {round(2*math.pi*self.radius)}')\n",
        "    \n",
        "circy = Circle(11)\n",
        "circy.getArea()\n",
        "\n",
        "circy = Circle(4.44)\n",
        "circy.getPerimeter()"
      ],
      "metadata": {
        "colab": {
          "base_uri": "https://localhost:8080/"
        },
        "id": "no5lodq_YEcc",
        "outputId": "b6b884dc-4915-4bfe-f95a-2fbad198d439"
      },
      "execution_count": 3,
      "outputs": [
        {
          "output_type": "stream",
          "name": "stdout",
          "text": [
            "Radius ➞ 380\n",
            "Perimeter ➞ 28\n"
          ]
        }
      ]
    },
    {
      "cell_type": "markdown",
      "source": [
        "4.Create a function that takes a list of strings and return a list, sorted from shortest to longest.  \n",
        "Examples:  \n",
        "sort_by_length([\"Google\", \"Apple\", \"Microsoft\"])  \n",
        "➞ [\"Apple\", \"Google\", \"Microsoft\"]  \n",
        "sort_by_length([\"Leonardo\", \"Michelangelo\", \"Raphael\", \"Donatello\"])  \n",
        "➞ [\"Raphael\", \"Leonardo\", \"Donatello\", \"Michelangelo\"]  \n",
        "sort_by_length([\"Turing\", \"Einstein\", \"Jung\"])  \n",
        "➞ [\"Jung\", \"Turing\", \"Einstein\"]  \n",
        "\n",
        "Notes:  \n",
        "All test cases contain lists with strings of different lengths, so you won't have to deal with multiple strings of the same length."
      ],
      "metadata": {
        "id": "3FJeQIFBYWCJ"
      }
    },
    {
      "cell_type": "code",
      "source": [
        "def sort_by_length(in_list):\n",
        "    print(sorted(in_list,key=len))\n",
        "\n",
        "sort_by_length([\"Google\", \"Apple\", \"Microsoft\"])\n",
        "sort_by_length([\"Leonardo\", \"Michelangelo\", \"Raphael\", \"Donatello\"])\n",
        "sort_by_length([\"Turing\", \"Einstein\", \"Jung\"])"
      ],
      "metadata": {
        "colab": {
          "base_uri": "https://localhost:8080/"
        },
        "id": "zEP8qrP2YR8S",
        "outputId": "1dc132f0-117e-458d-9668-31675b900110"
      },
      "execution_count": 4,
      "outputs": [
        {
          "output_type": "stream",
          "name": "stdout",
          "text": [
            "['Apple', 'Google', 'Microsoft']\n",
            "['Raphael', 'Leonardo', 'Donatello', 'Michelangelo']\n",
            "['Jung', 'Turing', 'Einstein']\n"
          ]
        }
      ]
    },
    {
      "cell_type": "markdown",
      "source": [
        "5.Create a function that validates whether three given integers form a Pythagorean triplet. The sum of the squares of the two smallest integers must equal the square of the largest number to be validated.  \n",
        "Examples:  \n",
        "is_triplet(3, 4, 5) ➞ True # 3² + 4² = 25 # 5² = 25 is_triplet(13, 5, 12) ➞ True # 5² + 12² = 169 # 13² = 169 is_triplet(1, 2, 3) ➞ False # 1² + 2² = 5 # 3² = 9  \n",
        "\n",
        "Notes:  \n",
        " Numbers may not be given in a sorted order.  "
      ],
      "metadata": {
        "id": "JhLvK6KIYnn1"
      }
    },
    {
      "cell_type": "code",
      "source": [
        "def is_triplet(a,b,c):\n",
        "    if ((a**2+b**2) == (c**2)):\n",
        "        print(f'{a,b,c} ➞ {True}')\n",
        "    else:\n",
        "        print(f'{a,b,c} ➞ {False}')\n",
        "        \n",
        "is_triplet(3, 4, 5)\n",
        "is_triplet(3, 4, 5)\n",
        "is_triplet(1, 2, 3)"
      ],
      "metadata": {
        "colab": {
          "base_uri": "https://localhost:8080/"
        },
        "id": "IMEtkWMbYc7K",
        "outputId": "a28b85cc-7c77-4e72-9517-a3bca6e6684b"
      },
      "execution_count": 5,
      "outputs": [
        {
          "output_type": "stream",
          "name": "stdout",
          "text": [
            "(3, 4, 5) ➞ True\n",
            "(3, 4, 5) ➞ True\n",
            "(1, 2, 3) ➞ False\n"
          ]
        }
      ]
    },
    {
      "cell_type": "code",
      "source": [],
      "metadata": {
        "id": "B0cVJdeNYvcg"
      },
      "execution_count": null,
      "outputs": []
    }
  ]
}