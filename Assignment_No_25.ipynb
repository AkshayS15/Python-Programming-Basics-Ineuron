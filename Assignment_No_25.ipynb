{
  "nbformat": 4,
  "nbformat_minor": 0,
  "metadata": {
    "colab": {
      "provenance": []
    },
    "kernelspec": {
      "name": "python3",
      "display_name": "Python 3"
    },
    "language_info": {
      "name": "python"
    }
  },
  "cells": [
    {
      "cell_type": "markdown",
      "source": [
        "**1. Create a function that takes three integer arguments (a, b, c) and returns the amount of integers which are of equal value.  \n",
        "Examples:  \n",
        "equal(3, 4, 3) ➞ 2  \n",
        "equal(1, 1, 1) ➞ 3  \n",
        "equal(3, 4, 1) ➞ 0   \n",
        "Notes:  \n",
        "Your function must return 0, 2 or 3**"
      ],
      "metadata": {
        "id": "VZ-1GaHSWW-H"
      }
    },
    {
      "cell_type": "code",
      "execution_count": 1,
      "metadata": {
        "colab": {
          "base_uri": "https://localhost:8080/"
        },
        "id": "_D-ujAzOWOCY",
        "outputId": "86f22614-8cf7-4421-e61e-ababc162af3f"
      },
      "outputs": [
        {
          "output_type": "stream",
          "name": "stdout",
          "text": [
            "(3, 4, 3) ➞ 0\n",
            "(1, 1, 1) ➞ 3\n",
            "(3, 4, 1) ➞ 0\n"
          ]
        }
      ],
      "source": [
        "def equal(a,b,c):\n",
        "    if a==b==c:\n",
        "        print(f'{a,b,c} ➞ {3}')\n",
        "    elif a==b or b==c:\n",
        "        print(f'{a,b,c} ➞ {2}')\n",
        "    else:\n",
        "        print(f'{a,b,c} ➞ {0}')\n",
        "\n",
        "equal(3, 4, 3)\n",
        "equal(1, 1, 1)\n",
        "equal(3, 4, 1)"
      ]
    },
    {
      "cell_type": "markdown",
      "source": [
        "**2.Write a function that converts a dictionary into a list of keys-values tuples.  \n",
        "Examples:  \n",
        "dict_to_list({ \"D\": 1, \"B\": 2, \"C\": 3 }) ➞ [(\"B\", 2), (\"C\", 3), (\"D\", 1)] dict_to_list({ \"likes\": 2, \"dislikes\": 3, \"followers\": 10 }) ➞ [(\"dislikes\", 3), (\"followers\", 10), (\"likes\", 2)]  \n",
        "Notes:  \n",
        "Return the elements in the list in alphabetical order.**"
      ],
      "metadata": {
        "id": "LBGwzAQ_WmnY"
      }
    },
    {
      "cell_type": "code",
      "source": [
        "def dict_to_list(in_dict):\n",
        "    out_list = []\n",
        "    for keys,values in in_dict.items():\n",
        "        out_list.append((keys,values))\n",
        "    print(f'{in_dict} ➞ {out_list}')\n",
        "                   \n",
        "dict_to_list({\"D\": 1,\"B\": 2,\"C\": 3})\n",
        "dict_to_list({\"likes\": 2,\"dislikes\": 3,\"followers\": 10})"
      ],
      "metadata": {
        "colab": {
          "base_uri": "https://localhost:8080/"
        },
        "id": "DRUYrgRMWj8P",
        "outputId": "ba1c5d63-5be1-4dc7-ecd2-d35e19944293"
      },
      "execution_count": 2,
      "outputs": [
        {
          "output_type": "stream",
          "name": "stdout",
          "text": [
            "{'D': 1, 'B': 2, 'C': 3} ➞ [('D', 1), ('B', 2), ('C', 3)]\n",
            "{'likes': 2, 'dislikes': 3, 'followers': 10} ➞ [('likes', 2), ('dislikes', 3), ('followers', 10)]\n"
          ]
        }
      ]
    },
    {
      "cell_type": "markdown",
      "source": [
        "**3.Write a function that creates a dictionary with each (key, value) pair being the (lower case, upper case) versions of a letter, respectively.  \n",
        "Examples:  \n",
        "mapping([\"p\", \"s\"]) ➞ { \"p\": \"P\", \"s\": \"S\" }  \n",
        "mapping([\"a\", \"b\", \"c\"]) ➞ { \"a\": \"A\", \"b\": \"B\", \"c\": \"C\" }  \n",
        "mapping([\"a\", \"v\", \"y\", \"z\"]) ➞ { \"a\": \"A\", \"v\": \"V\", \"y\": \"Y\", \"z\": \"Z\" }  \n",
        "Notes:  \n",
        "All of the letters in the input list will always be lowercase.**"
      ],
      "metadata": {
        "id": "nz_E3Fc5Wyqg"
      }
    },
    {
      "cell_type": "code",
      "source": [
        "def mapping(in_list):\n",
        "    out_dict = {}\n",
        "    for ele in in_list:\n",
        "        out_dict[ele] = ele.upper()\n",
        "    print(f'{in_list} ➞ {out_dict}')\n",
        "    \n",
        "mapping([\"p\", \"s\"])\n",
        "mapping([\"a\", \"b\", \"c\"])\n",
        "mapping([\"a\", \"v\", \"y\", \"z\"])"
      ],
      "metadata": {
        "colab": {
          "base_uri": "https://localhost:8080/"
        },
        "id": "_pBkJUjFWt9P",
        "outputId": "3980863f-1cf4-4511-b72f-022267b02c1e"
      },
      "execution_count": 3,
      "outputs": [
        {
          "output_type": "stream",
          "name": "stdout",
          "text": [
            "['p', 's'] ➞ {'p': 'P', 's': 'S'}\n",
            "['a', 'b', 'c'] ➞ {'a': 'A', 'b': 'B', 'c': 'C'}\n",
            "['a', 'v', 'y', 'z'] ➞ {'a': 'A', 'v': 'V', 'y': 'Y', 'z': 'Z'}\n"
          ]
        }
      ]
    },
    {
      "cell_type": "markdown",
      "source": [
        "**4.Write a function, that replaces all vowels in a string with a specified vowel.  \n",
        "Examples:  \n",
        "vow_replace(\"apples and bananas\", \"u\") ➞ \"upplus und bununus\"  \n",
        "vow_replace(\"cheese casserole\", \"o\") ➞ \"chooso cossorolo\"  \n",
        "vow_replace(\"stuffed jalapeno poppers\", \"e\") ➞ \"steffed jelepene peppers\"  \n",
        "Notes:  \n",
        "All words will be lowercase. Y is not considered a vowel.**"
      ],
      "metadata": {
        "id": "hDdsFoalXAA6"
      }
    },
    {
      "cell_type": "code",
      "source": [
        "def vow_replace(string,char):\n",
        "    vow='AEIOUaeiou'\n",
        "    for i in vow:\n",
        "            string=string.replace(i,char)\n",
        "    return string"
      ],
      "metadata": {
        "id": "nwrTeiwUW94g"
      },
      "execution_count": 4,
      "outputs": []
    },
    {
      "cell_type": "code",
      "source": [
        "print(vow_replace(\"apples and bananas\", \"u\"))\n",
        "print(vow_replace(\"cheese casserole\", \"o\"))\n",
        "print(vow_replace(\"stuffed jalapeno poppers\", \"e\"))"
      ],
      "metadata": {
        "colab": {
          "base_uri": "https://localhost:8080/"
        },
        "id": "ZLJWm4oTXI4M",
        "outputId": "83c7e2e9-ef9d-4fe5-974b-8d868ad43816"
      },
      "execution_count": 5,
      "outputs": [
        {
          "output_type": "stream",
          "name": "stdout",
          "text": [
            "upplus und bununus\n",
            "chooso cossorolo\n",
            "steffed jelepene peppers\n"
          ]
        }
      ]
    },
    {
      "cell_type": "markdown",
      "source": [
        "**5.Create a function that takes a string as input and capitalizes a letter if its ASCII code is even and returns its lower case version if its ASCII code is odd.  \n",
        "Examples:  \n",
        "ascii_capitalize(\"to be or not to be!\") ➞ \"To Be oR NoT To Be!\"  \n",
        "ascii_capitalize(\"THE LITTLE MERMAID\") ➞ \"THe LiTTLe meRmaiD\"  \n",
        "ascii_capitalize(\"Oh what a beautiful morning.\") ➞ \"oH wHaT a BeauTiFuL moRNiNg.\"**"
      ],
      "metadata": {
        "id": "x4P_thg4XOA2"
      }
    },
    {
      "cell_type": "code",
      "source": [
        "def ascii_capitalize(in_string):\n",
        "    out_string = ''\n",
        "    for ele in in_string.lower():\n",
        "        if (ord(ele)%2 == 0):\n",
        "            out_string += ele.upper()\n",
        "        else:\n",
        "            out_string += ele\n",
        "    print(f'{in_string} ➞ {out_string}')\n",
        "        \n",
        "ascii_capitalize(\"to be or not to be!\")\n",
        "ascii_capitalize(\"THE LITTLE MERMAID\")\n",
        "ascii_capitalize(\"Oh what a beautiful morning.\")"
      ],
      "metadata": {
        "colab": {
          "base_uri": "https://localhost:8080/"
        },
        "id": "NrpbGm3vXMyH",
        "outputId": "fff4e7fb-c2d1-4ba9-bdcb-322066968efc"
      },
      "execution_count": 6,
      "outputs": [
        {
          "output_type": "stream",
          "name": "stdout",
          "text": [
            "to be or not to be! ➞ To Be oR NoT To Be!\n",
            "THE LITTLE MERMAID ➞ THe LiTTLe meRmaiD\n",
            "Oh what a beautiful morning. ➞ oH wHaT a BeauTiFuL moRNiNg.\n"
          ]
        }
      ]
    }
  ]
}