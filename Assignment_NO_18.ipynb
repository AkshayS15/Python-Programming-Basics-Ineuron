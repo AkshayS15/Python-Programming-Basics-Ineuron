{
  "nbformat": 4,
  "nbformat_minor": 0,
  "metadata": {
    "colab": {
      "provenance": []
    },
    "kernelspec": {
      "name": "python3",
      "display_name": "Python 3"
    },
    "language_info": {
      "name": "python"
    }
  },
  "cells": [
    {
      "cell_type": "markdown",
      "source": [
        "**1.Create a function that takes a list of non-negative integers and strings and return a new list without the strings ?**\n",
        "Examples:  \n",
        "filter_list([1, 2, \"a\", \"b\"]) ➞ [1, 2]  \n",
        "filter_list([1, \"a\", \"b\", 0, 15]) ➞ [1, 0, 15]  \n",
        "filter_list([1, 2, \"aasf\", \"1\", \"123\", 123]) ➞ [1, 2, 123]  \n",
        "ANS - "
      ],
      "metadata": {
        "id": "vPuRQC1jqvmQ"
      }
    },
    {
      "cell_type": "code",
      "execution_count": 1,
      "metadata": {
        "colab": {
          "base_uri": "https://localhost:8080/"
        },
        "id": "CEQJY11zqmeM",
        "outputId": "8cd0dd07-b12c-4fa8-c4ec-8c1895095597"
      },
      "outputs": [
        {
          "output_type": "stream",
          "name": "stdout",
          "text": [
            "[1, 0, 15]\n"
          ]
        }
      ],
      "source": [
        "l = [1, 'a', 'b', 0, 15]\n",
        "\n",
        "def filter_list(l):\n",
        "    new_list = []\n",
        "    for x in l:\n",
        "        if type(x) == int:\n",
        "            new_list.append(x)\n",
        "    return new_list\n",
        "\n",
        "print(filter_list(l))"
      ]
    },
    {
      "cell_type": "markdown",
      "source": [
        "**2. The \"Reverser\" takes a string as input and returns that string in reverse order, with the opposite case ?**  \n",
        "Examples:  \n",
        "reverse(\"Hello World\") ➞ \"DLROw OLLEh\"  \n",
        "reverse(\"ReVeRsE\") ➞ \"eSrEvEr\"  \n",
        "reverse(\"Radar\") ➞ \"RADAr\"  \n",
        "ANS - "
      ],
      "metadata": {
        "id": "rWep_0Pfq-Ra"
      }
    },
    {
      "cell_type": "code",
      "source": [
        "def reverse(str):\n",
        "    str = str[::-1]\n",
        "    return str.swapcase()\n",
        "    \n",
        "print(reverse('Hello World'))"
      ],
      "metadata": {
        "colab": {
          "base_uri": "https://localhost:8080/"
        },
        "id": "S2s9xRkeq5Tx",
        "outputId": "fb1658e8-b0b4-4c4a-aad1-6f08f3c2f588"
      },
      "execution_count": 2,
      "outputs": [
        {
          "output_type": "stream",
          "name": "stdout",
          "text": [
            "DLROw OLLEh\n"
          ]
        }
      ]
    },
    {
      "cell_type": "code",
      "source": [
        "reverse('ReVeRsE')"
      ],
      "metadata": {
        "colab": {
          "base_uri": "https://localhost:8080/",
          "height": 36
        },
        "id": "TasRHZRarHur",
        "outputId": "51c8dcf3-6361-418f-d6f7-32e707e8fb61"
      },
      "execution_count": 3,
      "outputs": [
        {
          "output_type": "execute_result",
          "data": {
            "text/plain": [
              "'eSrEvEr'"
            ],
            "application/vnd.google.colaboratory.intrinsic+json": {
              "type": "string"
            }
          },
          "metadata": {},
          "execution_count": 3
        }
      ]
    },
    {
      "cell_type": "code",
      "source": [
        "reverse('Radar')"
      ],
      "metadata": {
        "colab": {
          "base_uri": "https://localhost:8080/",
          "height": 36
        },
        "id": "JPD5xftBrKdP",
        "outputId": "fa876dc7-d265-499d-fe30-08d19619772d"
      },
      "execution_count": 4,
      "outputs": [
        {
          "output_type": "execute_result",
          "data": {
            "text/plain": [
              "'RADAr'"
            ],
            "application/vnd.google.colaboratory.intrinsic+json": {
              "type": "string"
            }
          },
          "metadata": {},
          "execution_count": 4
        }
      ]
    },
    {
      "cell_type": "markdown",
      "source": [
        "**3.You can assign variables from lists like this:**  \n",
        "\n",
        "lst = [1, 2, 3, 4, 5, 6] first = lst[0] middle = lst[1:-1] last = lst[-1] print(first) ➞ outputs 1 print(middle) ➞ outputs [2, 3, 4, 5] print(last) ➞ outputs 6  \n",
        "With Python 3, you can assign variables from lists in a much more succinct way. Create variables first, middle and last from the given list using destructuring assignment  \n",
        "(check the Resources tab for some examples), where:  \n",
        "first ➞ 1 middle ➞ [2, 3, 4, 5] last ➞ 6  \n",
        "Your task is to unpack the list writeyourcodehere into three variables, being first, middle, and last, with middle being everything in between the first and last element. Then print all three variables.  \n",
        "ANS - "
      ],
      "metadata": {
        "id": "AObBk7RgrOvp"
      }
    },
    {
      "cell_type": "code",
      "source": [
        "lst = [1, 2, 3, 4, 5, 6]\n",
        "first ,*middle,last = lst"
      ],
      "metadata": {
        "id": "JqGQsKIPrMR7"
      },
      "execution_count": 5,
      "outputs": []
    },
    {
      "cell_type": "code",
      "source": [
        "first\n"
      ],
      "metadata": {
        "colab": {
          "base_uri": "https://localhost:8080/"
        },
        "id": "5TiadSpArdgD",
        "outputId": "bb03456b-ab68-4fe0-9f95-6181c880e777"
      },
      "execution_count": 6,
      "outputs": [
        {
          "output_type": "execute_result",
          "data": {
            "text/plain": [
              "1"
            ]
          },
          "metadata": {},
          "execution_count": 6
        }
      ]
    },
    {
      "cell_type": "code",
      "source": [
        "middle"
      ],
      "metadata": {
        "colab": {
          "base_uri": "https://localhost:8080/"
        },
        "id": "gLqKsJgQrfcm",
        "outputId": "bc797965-701e-4eae-acba-e2d955fe5bdd"
      },
      "execution_count": 7,
      "outputs": [
        {
          "output_type": "execute_result",
          "data": {
            "text/plain": [
              "[2, 3, 4, 5]"
            ]
          },
          "metadata": {},
          "execution_count": 7
        }
      ]
    },
    {
      "cell_type": "code",
      "source": [
        "last"
      ],
      "metadata": {
        "colab": {
          "base_uri": "https://localhost:8080/"
        },
        "id": "EpvqYJb1rhK1",
        "outputId": "9dc46e35-a930-45ce-95f0-f2afa81c4c8e"
      },
      "execution_count": 8,
      "outputs": [
        {
          "output_type": "execute_result",
          "data": {
            "text/plain": [
              "6"
            ]
          },
          "metadata": {},
          "execution_count": 8
        }
      ]
    },
    {
      "cell_type": "markdown",
      "source": [
        "**4.Write a function that calculates the factorial of a number recursively.**  \n",
        "Examples:  \n",
        "factorial(5) ➞ 120  \n",
        "factorial(3) ➞ 6  \n",
        "factorial(1) ➞ 1  \n",
        "factorial(0) ➞ 1  \n",
        "ANS - "
      ],
      "metadata": {
        "id": "w5R9f1XTrpqG"
      }
    },
    {
      "cell_type": "code",
      "source": [
        "def factorial(num):\n",
        "    if num==0:\n",
        "        return 1\n",
        "    else:\n",
        "        return num*factorial(num-1)"
      ],
      "metadata": {
        "id": "uP5kZtFprlMK"
      },
      "execution_count": 9,
      "outputs": []
    },
    {
      "cell_type": "code",
      "source": [
        "print(factorial(5))\n",
        "print(factorial(3))\n",
        "print(factorial(1))\n",
        "print(factorial(0))"
      ],
      "metadata": {
        "colab": {
          "base_uri": "https://localhost:8080/"
        },
        "id": "Yhv_CtzOrw86",
        "outputId": "f0f2a177-1179-4f82-ab0e-c3a5c0b3c025"
      },
      "execution_count": 10,
      "outputs": [
        {
          "output_type": "stream",
          "name": "stdout",
          "text": [
            "120\n",
            "6\n",
            "1\n",
            "1\n"
          ]
        }
      ]
    },
    {
      "cell_type": "markdown",
      "source": [
        "**5.Write a function that moves all elements of one type to the end of the list.**  \n",
        "Examples:  \n",
        "move_to_end([1, 3, 2, 4, 4, 1], 1) ➞ [3, 2, 4, 4, 1, 1]  \n",
        "Move all the 1s to the end of the array.  \n",
        "move_to_end([7, 8, 9, 1, 2, 3, 4], 9) ➞ [7, 8, 1, 2, 3, 4, 9]  \n",
        "move_to_end([\"a\", \"a\", \"a\", \"b\"], \"a\") ➞ [\"b\", \"a\", \"a\", \"a\"]  \n",
        "ANS - "
      ],
      "metadata": {
        "id": "qrdn54vNsLLA"
      }
    },
    {
      "cell_type": "code",
      "source": [
        "def move_to_end(lst, value):\n",
        "    try:\n",
        "        end = []\n",
        "        for i in lst[::-1]:\n",
        "            if i == value:\n",
        "                lst.remove(i)\n",
        "                end.append(i)\n",
        "        lst.extend(end)\n",
        "        return lst\n",
        "    except Exception as e:\n",
        "        log.info(str(e))"
      ],
      "metadata": {
        "id": "YyAZiylVr85h"
      },
      "execution_count": 11,
      "outputs": []
    },
    {
      "cell_type": "code",
      "source": [
        "print(move_to_end([1, 3, 2, 4, 4, 1], 1))\n",
        "print(move_to_end([\"a\", \"a\", \"a\", \"b\"], \"a\"))"
      ],
      "metadata": {
        "colab": {
          "base_uri": "https://localhost:8080/"
        },
        "id": "g4MMOP_VsYQs",
        "outputId": "ba08b968-9f8b-4def-90ba-5dfbfc2b0737"
      },
      "execution_count": 12,
      "outputs": [
        {
          "output_type": "stream",
          "name": "stdout",
          "text": [
            "[3, 2, 4, 4, 1, 1]\n",
            "['b', 'a', 'a', 'a']\n"
          ]
        }
      ]
    }
  ]
}